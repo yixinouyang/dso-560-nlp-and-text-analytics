{
 "cells": [
  {
   "cell_type": "code",
   "execution_count": 1,
   "metadata": {},
   "outputs": [],
   "source": [
    "import pandas as pd\n",
    "import numpy as np\n",
    "import re\n",
    "from fuzzywuzzy import fuzz\n",
    "import matplotlib.pyplot as plt\n",
    "import scipy.stats as st"
   ]
  },
  {
   "cell_type": "code",
   "execution_count": 2,
   "metadata": {},
   "outputs": [],
   "source": [
    "# read txt file\n",
    "\n",
    "good_reviews = open('good_amazon_toy_reviews.txt', \"r\", encoding='utf8').read()\n",
    "poor_reviews = open('poor_amazon_toy_reviews.txt', \"r\", encoding='utf8').read()\n",
    "\n",
    "good_reviews_df = pd.read_csv('good_amazon_toy_reviews.txt', sep=\"\\n\", header=None, names=[\"line\"])\n",
    "poor_reviews_df = pd.read_csv('poor_amazon_toy_reviews.txt', sep=\"\\n\", header=None, names=[\"line\"])"
   ]
  },
  {
   "cell_type": "code",
   "execution_count": 3,
   "metadata": {},
   "outputs": [],
   "source": [
    "# tokenize\n",
    "word_list = [word.lower() for word in re.findall(r'\\b[A-z]+\\b', good_reviews+poor_reviews)]\n",
    "word_set = set(word_list)"
   ]
  },
  {
   "cell_type": "markdown",
   "metadata": {},
   "source": [
    "# Question 1\n",
    "* A manager in the marketing department wants to find out the most frequently used words in positive reviews (five stars) and negative reviews (one star) in order to determine what occasion the toys are purchased for (Christmas, birthdays, and anniversaries.). He would like your opinion on **which gift occasions (Christmas, birthdays, or anniversaries) tend to have the most positive reviews** to focus marketing budget on those days."
   ]
  },
  {
   "cell_type": "code",
   "execution_count": 4,
   "metadata": {},
   "outputs": [
    {
     "data": {
      "text/plain": [
       "{'christmas': '\\\\b(xmas|giftchristmas|chistmas|chrisrmas|chritmas|cristmas|christmas|cchristmas|chrisms|christmases|chistmass|christmaa)\\\\b',\n",
       " 'birthday': '\\\\b(bithday|birhtday|bithdays|borthday|birthday|brthday|biryhday|birthdy|birthdat|birthdaygift|birthay|unbirthday|birtbday|birthdays|birthhday)\\\\b',\n",
       " 'anniversary': '\\\\b(anniversaries|anniversary|anniversay|anniversry)\\\\b',\n",
       " 'valentine': '\\\\b(valentines|valentine)\\\\b',\n",
       " 'thanksgiving': '\\\\b(thanksgiving)\\\\b',\n",
       " 'halloween': '\\\\b(halloweeen|halloween|holloween|halloweens)\\\\b',\n",
       " 'easter': '\\\\b(easter)\\\\b'}"
      ]
     },
     "execution_count": 4,
     "metadata": {},
     "output_type": "execute_result"
    }
   ],
   "source": [
    "# fuzzy match for serveral gift occasions\n",
    "occasion_re = {}\n",
    "\n",
    "christmas_word = [word for word in word_set if fuzz.ratio(r'christmas',word) >= 80]\n",
    "birthday_word = [word for word in word_set if fuzz.ratio(r'birthday',word) >= 80]\n",
    "anniversary_word = [word for word in word_set if fuzz.ratio(r'anniversary',word) >= 80]\n",
    "\n",
    "occasion_re['christmas'] = r'\\b(xmas|' + '|'.join([word for word in christmas_word if word not in ['christ','christians','charisma']]) + r')\\b'\n",
    "occasion_re['birthday'] = r'\\b(' + '|'.join([word for word in birthday_word if word not in ['birthed']]) + r')\\b'\n",
    "occasion_re['anniversary']= r'\\b(' + '|'.join([word for word in anniversary_word if word not in ['adversary']]) + r')\\b'\n",
    "occasion_re['valentine'] = r'\\b(' + '|'.join([word for word in word_set if fuzz.ratio(r'valentine',word) >= 80]) + r')\\b'\n",
    "occasion_re['thanksgiving'] = r'\\b(' + '|'.join([word for word in word_set if fuzz.ratio(r'thanksgiving',word) >= 90]) + r')\\b'\n",
    "occasion_re['halloween'] = r'\\b(' + '|'.join([word for word in word_set if fuzz.ratio(r'halloween',word) >= 85]) + r')\\b'\n",
    "occasion_re['easter'] = r'\\b(' + '|'.join([word for word in word_set if fuzz.ratio(r'easter',word) >= 95]) + r')\\b'\n",
    "\n",
    "occasion_re"
   ]
  },
  {
   "cell_type": "code",
   "execution_count": 5,
   "metadata": {},
   "outputs": [
    {
     "data": {
      "text/html": [
       "<div>\n",
       "<style scoped>\n",
       "    .dataframe tbody tr th:only-of-type {\n",
       "        vertical-align: middle;\n",
       "    }\n",
       "\n",
       "    .dataframe tbody tr th {\n",
       "        vertical-align: top;\n",
       "    }\n",
       "\n",
       "    .dataframe thead th {\n",
       "        text-align: right;\n",
       "    }\n",
       "</style>\n",
       "<table border=\"1\" class=\"dataframe\">\n",
       "  <thead>\n",
       "    <tr style=\"text-align: right;\">\n",
       "      <th></th>\n",
       "      <th>good_word</th>\n",
       "      <th>good_review</th>\n",
       "      <th>poor_word</th>\n",
       "      <th>poor_review</th>\n",
       "    </tr>\n",
       "  </thead>\n",
       "  <tbody>\n",
       "    <tr>\n",
       "      <th>christmas</th>\n",
       "      <td>1285</td>\n",
       "      <td>1211</td>\n",
       "      <td>76</td>\n",
       "      <td>70</td>\n",
       "    </tr>\n",
       "    <tr>\n",
       "      <th>birthday</th>\n",
       "      <td>4004</td>\n",
       "      <td>3812</td>\n",
       "      <td>446</td>\n",
       "      <td>411</td>\n",
       "    </tr>\n",
       "    <tr>\n",
       "      <th>anniversary</th>\n",
       "      <td>55</td>\n",
       "      <td>53</td>\n",
       "      <td>5</td>\n",
       "      <td>4</td>\n",
       "    </tr>\n",
       "    <tr>\n",
       "      <th>valentine</th>\n",
       "      <td>23</td>\n",
       "      <td>23</td>\n",
       "      <td>0</td>\n",
       "      <td>0</td>\n",
       "    </tr>\n",
       "    <tr>\n",
       "      <th>thanksgiving</th>\n",
       "      <td>11</td>\n",
       "      <td>11</td>\n",
       "      <td>0</td>\n",
       "      <td>0</td>\n",
       "    </tr>\n",
       "    <tr>\n",
       "      <th>halloween</th>\n",
       "      <td>416</td>\n",
       "      <td>375</td>\n",
       "      <td>21</td>\n",
       "      <td>16</td>\n",
       "    </tr>\n",
       "    <tr>\n",
       "      <th>easter</th>\n",
       "      <td>90</td>\n",
       "      <td>82</td>\n",
       "      <td>4</td>\n",
       "      <td>4</td>\n",
       "    </tr>\n",
       "    <tr>\n",
       "      <th>total</th>\n",
       "      <td>2794429</td>\n",
       "      <td>102188</td>\n",
       "      <td>432911</td>\n",
       "      <td>12696</td>\n",
       "    </tr>\n",
       "  </tbody>\n",
       "</table>\n",
       "</div>"
      ],
      "text/plain": [
       "              good_word  good_review  poor_word  poor_review\n",
       "christmas          1285         1211         76           70\n",
       "birthday           4004         3812        446          411\n",
       "anniversary          55           53          5            4\n",
       "valentine            23           23          0            0\n",
       "thanksgiving         11           11          0            0\n",
       "halloween           416          375         21           16\n",
       "easter               90           82          4            4\n",
       "total           2794429       102188     432911        12696"
      ]
     },
     "execution_count": 5,
     "metadata": {},
     "output_type": "execute_result"
    }
   ],
   "source": [
    "# counter\n",
    "occasion_df = pd.DataFrame(columns=['good_word','good_review','poor_word','poor_review']\n",
    "                           , index=['christmas','birthday','anniversary','valentine','thanksgiving','halloween','easter','total'])\n",
    "occasion_df = occasion_df.fillna(0)\n",
    "\n",
    "# parse from good reviews\n",
    "for line in good_reviews_df['line']:\n",
    "    for occasion in occasion_df.index:\n",
    "        if occasion == 'total':\n",
    "            occasion_df.loc[occasion,'good_word'] += len(re.findall(r'\\b[A-z]+\\b',line))\n",
    "            occasion_df.loc[occasion,'good_review'] += 1\n",
    "        else:\n",
    "            if re.findall(occasion_re[occasion],line,flags=re.IGNORECASE):\n",
    "                occasion_df.loc[occasion,'good_word'] += len(re.findall(occasion_re[occasion],line,flags=re.IGNORECASE))\n",
    "                occasion_df.loc[occasion,'good_review'] += 1\n",
    "    \n",
    "# parse from poor reviews\n",
    "for line in poor_reviews_df['line']:\n",
    "    for occasion in occasion_df.index:\n",
    "        if occasion == 'total':\n",
    "            occasion_df.loc[occasion,'poor_word'] += len(re.findall(r'\\b[A-z]+\\b',line))\n",
    "            occasion_df.loc[occasion,'poor_review'] += 1\n",
    "        else:\n",
    "            if re.findall(occasion_re[occasion],line,flags=re.IGNORECASE):\n",
    "                occasion_df.loc[occasion,'poor_word'] += len(re.findall(occasion_re[occasion],line,flags=re.IGNORECASE))\n",
    "                occasion_df.loc[occasion,'poor_review'] += 1\n",
    "occasion_df"
   ]
  },
  {
   "cell_type": "markdown",
   "metadata": {},
   "source": [
    "**Answer: Given the table above, in both word and review level, \"birthday\" is most frequently used word compared to other gift occasion words.**"
   ]
  },
  {
   "cell_type": "code",
   "execution_count": 6,
   "metadata": {},
   "outputs": [
    {
     "data": {
      "text/html": [
       "<div>\n",
       "<style scoped>\n",
       "    .dataframe tbody tr th:only-of-type {\n",
       "        vertical-align: middle;\n",
       "    }\n",
       "\n",
       "    .dataframe tbody tr th {\n",
       "        vertical-align: top;\n",
       "    }\n",
       "\n",
       "    .dataframe thead th {\n",
       "        text-align: right;\n",
       "    }\n",
       "</style>\n",
       "<table border=\"1\" class=\"dataframe\">\n",
       "  <thead>\n",
       "    <tr style=\"text-align: right;\">\n",
       "      <th></th>\n",
       "      <th>good_review</th>\n",
       "      <th>poor_review</th>\n",
       "      <th>%good</th>\n",
       "      <th>95%CI</th>\n",
       "      <th>LB</th>\n",
       "      <th>UB</th>\n",
       "    </tr>\n",
       "  </thead>\n",
       "  <tbody>\n",
       "    <tr>\n",
       "      <th>valentine</th>\n",
       "      <td>23</td>\n",
       "      <td>0</td>\n",
       "      <td>1.000000</td>\n",
       "      <td>0.000000</td>\n",
       "      <td>1.000000</td>\n",
       "      <td>1.000000</td>\n",
       "    </tr>\n",
       "    <tr>\n",
       "      <th>thanksgiving</th>\n",
       "      <td>11</td>\n",
       "      <td>0</td>\n",
       "      <td>1.000000</td>\n",
       "      <td>0.000000</td>\n",
       "      <td>1.000000</td>\n",
       "      <td>1.000000</td>\n",
       "    </tr>\n",
       "    <tr>\n",
       "      <th>halloween</th>\n",
       "      <td>375</td>\n",
       "      <td>16</td>\n",
       "      <td>0.959079</td>\n",
       "      <td>0.019637</td>\n",
       "      <td>0.939443</td>\n",
       "      <td>0.978716</td>\n",
       "    </tr>\n",
       "    <tr>\n",
       "      <th>christmas</th>\n",
       "      <td>1211</td>\n",
       "      <td>70</td>\n",
       "      <td>0.945355</td>\n",
       "      <td>0.012447</td>\n",
       "      <td>0.932909</td>\n",
       "      <td>0.957802</td>\n",
       "    </tr>\n",
       "    <tr>\n",
       "      <th>easter</th>\n",
       "      <td>82</td>\n",
       "      <td>4</td>\n",
       "      <td>0.953488</td>\n",
       "      <td>0.044509</td>\n",
       "      <td>0.908980</td>\n",
       "      <td>0.997997</td>\n",
       "    </tr>\n",
       "    <tr>\n",
       "      <th>birthday</th>\n",
       "      <td>3812</td>\n",
       "      <td>411</td>\n",
       "      <td>0.902676</td>\n",
       "      <td>0.008940</td>\n",
       "      <td>0.893736</td>\n",
       "      <td>0.911615</td>\n",
       "    </tr>\n",
       "    <tr>\n",
       "      <th>total</th>\n",
       "      <td>102188</td>\n",
       "      <td>12696</td>\n",
       "      <td>0.889489</td>\n",
       "      <td>0.001813</td>\n",
       "      <td>0.887676</td>\n",
       "      <td>0.891302</td>\n",
       "    </tr>\n",
       "    <tr>\n",
       "      <th>anniversary</th>\n",
       "      <td>53</td>\n",
       "      <td>4</td>\n",
       "      <td>0.929825</td>\n",
       "      <td>0.066315</td>\n",
       "      <td>0.863510</td>\n",
       "      <td>0.996140</td>\n",
       "    </tr>\n",
       "  </tbody>\n",
       "</table>\n",
       "</div>"
      ],
      "text/plain": [
       "              good_review  poor_review     %good     95%CI        LB        UB\n",
       "valentine              23            0  1.000000  0.000000  1.000000  1.000000\n",
       "thanksgiving           11            0  1.000000  0.000000  1.000000  1.000000\n",
       "halloween             375           16  0.959079  0.019637  0.939443  0.978716\n",
       "christmas            1211           70  0.945355  0.012447  0.932909  0.957802\n",
       "easter                 82            4  0.953488  0.044509  0.908980  0.997997\n",
       "birthday             3812          411  0.902676  0.008940  0.893736  0.911615\n",
       "total              102188        12696  0.889489  0.001813  0.887676  0.891302\n",
       "anniversary            53            4  0.929825  0.066315  0.863510  0.996140"
      ]
     },
     "execution_count": 6,
     "metadata": {},
     "output_type": "execute_result"
    }
   ],
   "source": [
    "# stats\n",
    "review_df = occasion_df.loc[:,['good_review','poor_review']]\n",
    "review_df['%good'] = review_df['good_review']/(review_df['good_review']+review_df['poor_review'])\n",
    "review_df['95%CI'] = 1.96*(review_df['%good']*(1-review_df['%good'])/(review_df['good_review']+review_df['poor_review']))**0.5\n",
    "review_df['LB'] = review_df['%good']-review_df['95%CI']\n",
    "review_df['UB'] = review_df['%good']+review_df['95%CI']\n",
    "review_df.sort_values('LB',ascending=False)"
   ]
  },
  {
   "cell_type": "markdown",
   "metadata": {},
   "source": [
    "**Answer: Since gift occasion words can appear multiple times in one review, I will do the stats in review level.**\n",
    "\n",
    "**After compute the % good reviews for each occasion, I compute the 95% confidence interval for % good reviews. Since the data isn't large enough, I sort it by lower bound as a safer estimation. Also ignore valentine and thanksgiving because of small data point.**\n",
    "\n",
    "**As a conculsion, even though birthday have the most buyers, Halloween and Christmas tend to have the most positive reviews. Ae can take a look into those related reviews and find out why this toy is better for Halloween and Christmas than birthday.**"
   ]
  },
  {
   "cell_type": "markdown",
   "metadata": {},
   "source": [
    "# Question 2\n",
    "* One of your product managers suspects that **toys purchased for male recipients (husbands, sons, etc.)** tend to be much more likely to be reviewed poorly. She would like to see some data points confirming or rejecting her hypothesis. "
   ]
  },
  {
   "cell_type": "code",
   "execution_count": 7,
   "metadata": {},
   "outputs": [
    {
     "data": {
      "text/plain": [
       "'\\\\b(grandsone|gandson|granddad|dads|grandaon|grabdson|gramdson|gransson|gandsons|gradson|husbands|grandsond|husban|grandson|vgrandson|huband|grandad|fathers?|mygrandson|grandsons|granddaddy|grandspn|husband|daddy|males?|grandso|granpa|grndson|dada|grandpa|dadi|granda|dad|sons?|granson|boyfriends?|grandma)\\\\b'"
      ]
     },
     "execution_count": 7,
     "metadata": {},
     "output_type": "execute_result"
    }
   ],
   "source": [
    "# fuzzy match for male word\n",
    "male_word = ['males?','sons?','boyfriends?']\n",
    "male_word.extend([word for word in word_set if fuzz.ratio(r'husband',word) >= 85])\n",
    "male_word.extend(['fathers?','daddy','granddaddy'])\n",
    "male_word.extend([word for word in word_set if fuzz.ratio(r'dad',word) >= 85])\n",
    "male_word.extend([word for word in word_set if fuzz.ratio(r'grandpa',word) >= 85])\n",
    "male_word.extend([word for word in word_set if fuzz.ratio(r'grandda',word) >= 85])\n",
    "male_word.extend([word for word in word_set if fuzz.ratio(r'grandson',word) >= 85])\n",
    "male_word.remove('dead')\n",
    "male_word.remove('grands')\n",
    "male_word.remove('grandma')\n",
    "male_word.remove('granddaug')\n",
    "male_word_re = r'\\b(' + '|'.join([word for word in set(male_word)]) + r')\\b'\n",
    "male_word_re"
   ]
  },
  {
   "cell_type": "code",
   "execution_count": 8,
   "metadata": {},
   "outputs": [
    {
     "data": {
      "text/html": [
       "<div>\n",
       "<style scoped>\n",
       "    .dataframe tbody tr th:only-of-type {\n",
       "        vertical-align: middle;\n",
       "    }\n",
       "\n",
       "    .dataframe tbody tr th {\n",
       "        vertical-align: top;\n",
       "    }\n",
       "\n",
       "    .dataframe thead th {\n",
       "        text-align: right;\n",
       "    }\n",
       "</style>\n",
       "<table border=\"1\" class=\"dataframe\">\n",
       "  <thead>\n",
       "    <tr style=\"text-align: right;\">\n",
       "      <th></th>\n",
       "      <th>good_review</th>\n",
       "      <th>poor_review</th>\n",
       "    </tr>\n",
       "  </thead>\n",
       "  <tbody>\n",
       "    <tr>\n",
       "      <th>male</th>\n",
       "      <td>12242</td>\n",
       "      <td>863</td>\n",
       "    </tr>\n",
       "    <tr>\n",
       "      <th>total</th>\n",
       "      <td>102188</td>\n",
       "      <td>12696</td>\n",
       "    </tr>\n",
       "  </tbody>\n",
       "</table>\n",
       "</div>"
      ],
      "text/plain": [
       "       good_review  poor_review\n",
       "male         12242          863\n",
       "total       102188        12696"
      ]
     },
     "execution_count": 8,
     "metadata": {},
     "output_type": "execute_result"
    }
   ],
   "source": [
    "# counter\n",
    "male_df = pd.DataFrame(columns=['good_review','poor_review'],index=['male','total'])\n",
    "male_df = male_df.fillna(0)\n",
    "\n",
    "# parse male word from good reviews\n",
    "for line in good_reviews_df['line']:\n",
    "    for i in male_df.index:\n",
    "        if i == 'total':\n",
    "            male_df.loc[i,'good_review'] += 1\n",
    "        else:\n",
    "            if re.findall(male_word_re,line,flags=re.IGNORECASE):\n",
    "                male_df.loc[i,'good_review'] += 1\n",
    "    \n",
    "# parse male word from poor reviews\n",
    "for line in poor_reviews_df['line']:\n",
    "    for i in male_df.index:\n",
    "        if i == 'total':\n",
    "            male_df.loc[i,'poor_review'] += 1\n",
    "        else:\n",
    "            if re.findall(male_word_re,line,flags=re.IGNORECASE):\n",
    "                male_df.loc[i,'poor_review'] += 1\n",
    "                \n",
    "male_df"
   ]
  },
  {
   "cell_type": "code",
   "execution_count": 9,
   "metadata": {},
   "outputs": [
    {
     "data": {
      "text/plain": [
       "good_review    0.119799\n",
       "poor_review    0.067974\n",
       "dtype: float64"
      ]
     },
     "execution_count": 9,
     "metadata": {},
     "output_type": "execute_result"
    }
   ],
   "source": [
    "percentage = male_df.transpose()['male']/male_df.transpose()['total']\n",
    "percentage"
   ]
  },
  {
   "cell_type": "markdown",
   "metadata": {},
   "source": [
    "## Conduct Two Population Percentage Hypothesis Test\n",
    "\n",
    "**H0: difference in male percentage of good reviews and poor reviews = 0**"
   ]
  },
  {
   "cell_type": "code",
   "execution_count": 10,
   "metadata": {},
   "outputs": [
    {
     "data": {
      "text/plain": [
       "0.05182463711632826"
      ]
     },
     "execution_count": 10,
     "metadata": {},
     "output_type": "execute_result"
    }
   ],
   "source": [
    "diff = percentage[0]-percentage[1]\n",
    "diff"
   ]
  },
  {
   "cell_type": "code",
   "execution_count": 11,
   "metadata": {},
   "outputs": [
    {
     "data": {
      "text/plain": [
       "0.11407158525120992"
      ]
     },
     "execution_count": 11,
     "metadata": {},
     "output_type": "execute_result"
    }
   ],
   "source": [
    "p_pool = (male_df.loc['male','good_review']+male_df.loc['male','poor_review']) \\\n",
    "        / (male_df.loc['total','good_review']+male_df.loc['total','poor_review'])\n",
    "p_pool"
   ]
  },
  {
   "cell_type": "code",
   "execution_count": 12,
   "metadata": {},
   "outputs": [
    {
     "data": {
      "text/plain": [
       "0.002991468414646907"
      ]
     },
     "execution_count": 12,
     "metadata": {},
     "output_type": "execute_result"
    }
   ],
   "source": [
    "SE_diff = (p_pool*(1-p_pool)*(1/male_df.loc['total','good_review']+1/male_df.loc['total','poor_review']))**0.5\n",
    "SE_diff"
   ]
  },
  {
   "cell_type": "code",
   "execution_count": 13,
   "metadata": {},
   "outputs": [
    {
     "data": {
      "text/plain": [
       "-17.324146517002518"
      ]
     },
     "execution_count": 13,
     "metadata": {},
     "output_type": "execute_result"
    }
   ],
   "source": [
    "Z = (0-diff) / SE_diff\n",
    "Z"
   ]
  },
  {
   "cell_type": "code",
   "execution_count": 14,
   "metadata": {},
   "outputs": [
    {
     "data": {
      "text/plain": [
       "1.546246715865031e-67"
      ]
     },
     "execution_count": 14,
     "metadata": {},
     "output_type": "execute_result"
    }
   ],
   "source": [
    "p_value = st.norm.cdf(Z)\n",
    "p_value"
   ]
  },
  {
   "cell_type": "markdown",
   "metadata": {},
   "source": [
    "## Conculsion\n",
    "\n",
    "**If H0 is true, good reviews and poor reviews will have same male percentage; However, p_value = 1.469657362095804e-21, which reject H0. Therefore, toys purchased for male recipients (husbands, sons, etc.) tend to be much more likely to have good reviews.**"
   ]
  },
  {
   "cell_type": "markdown",
   "metadata": {},
   "source": [
    "# Question 3\n",
    "* Use **regular expressions to parse out all references to recipients and gift occassions**, and account for the possibility that people may spell words \"son\" / \"children\" / \"Christmas\" as both singular and plural, upper or lower-cased."
   ]
  },
  {
   "cell_type": "code",
   "execution_count": 15,
   "metadata": {},
   "outputs": [
    {
     "data": {
      "text/plain": [
       "'\\\\b(gandson|childrem|children|daugher|girilfriend|grandchilds|grnddaughter|husbands|mothers?daddy|grandsond|husban|grandson|grandaugher|granddraughter|grandmama|granddaughter`s|grndson|dada|grandparenting|daughter`s|females|dadi|granddaugjter|gifriend|boyfriends?|grandma|grandsone|chldren|granddad|granddaug|hranddsughter|grandaon|gramdson|grandparents|chidlren|granddsughters|granddaugter|vgrandson|fathers?|grandad|mygrandson|granddaughter|daugter|granddaddy|grandparent|granddaugher|mygranddaughter|grandaugther|kidz|childrens|mom|daughther|granda|grands|moms|child|parent|dads|grabdson|gransson|gandsons|ourgranddaughters|momy|girlfriends|huband|parentsa|kidd|girlfriend|grandsons|grandman|granddaudhter|kido|grandddaughter|gradndaughter|grandspn|husband|kid|grandaught|daughtr|grandso|granpa|granddaugther|dad|granddaughhter|kids|parents|childs|parental|gradson|grandmas|grandfather|granddaoughters|daughters|grandchildren|daughter|grandaugter|granddaighter|granddaughteris|males?|grandchild|ggdaughter|gdaughter|grandpa|granddaughters|grandaughter|childern|grandaughters|sons?|granson)\\\\b'"
      ]
     },
     "execution_count": 15,
     "metadata": {},
     "output_type": "execute_result"
    }
   ],
   "source": [
    "# regular expression to parse out all references to recipients and gift occassions\n",
    "recipient_word = ['males?','females','sons?','boyfriends?','fathers?','mothers?''daddy','granddaddy']\n",
    "recipient_word.extend([word for word in word_set if fuzz.ratio(r'girlfriend',word) >= 85])\n",
    "recipient_word.extend([word for word in word_set if fuzz.ratio(r'husband',word) >= 85])\n",
    "recipient_word.extend([word for word in word_set if fuzz.ratio(r'dad',word) >= 85])\n",
    "recipient_word.extend([word for word in word_set if fuzz.ratio(r'mom',word) >= 85])\n",
    "recipient_word.extend([word for word in word_set if fuzz.ratio(r'parent',word) >= 85])\n",
    "recipient_word.extend([word for word in word_set if fuzz.ratio(r'child',word) >= 85])\n",
    "recipient_word.extend([word for word in word_set if fuzz.ratio(r'children',word) >= 85])\n",
    "recipient_word.extend([word for word in word_set if fuzz.ratio(r'kid',word) >= 85])\n",
    "recipient_word.extend([word for word in word_set if fuzz.ratio(r'daughter',word) >= 89])\n",
    "recipient_word.extend([word for word in word_set if fuzz.ratio(r'grandpa',word) >= 85])\n",
    "recipient_word.extend([word for word in word_set if fuzz.ratio(r'grandfather',word) >= 85])\n",
    "recipient_word.extend([word for word in word_set if fuzz.ratio(r'grandda',word) >= 85])\n",
    "recipient_word.extend([word for word in word_set if fuzz.ratio(r'grandma',word) >= 85])\n",
    "recipient_word.extend([word for word in word_set if fuzz.ratio(r'grandparent',word) >= 85])\n",
    "recipient_word.extend([word for word in word_set if fuzz.ratio(r'grandchild',word) >= 85])\n",
    "recipient_word.extend([word for word in word_set if fuzz.ratio(r'grandson',word) >= 85])\n",
    "recipient_word.extend([word for word in word_set if fuzz.ratio(r'granddaughter',word) >= 85])\n",
    "recipient_word.remove('dead')\n",
    "recipient_word.remove('arent')\n",
    "recipient_word.remove('apparent')\n",
    "recipient_word.remove('chil')\n",
    "recipient_word.remove('kind')\n",
    "recipient_word.remove('skid')\n",
    "\n",
    "recipient_re = r'\\b(' + '|'.join([word for word in set(recipient_word)]) + r')\\b'\n",
    "recipient_re"
   ]
  },
  {
   "cell_type": "code",
   "execution_count": 16,
   "metadata": {},
   "outputs": [
    {
     "data": {
      "text/html": [
       "<div>\n",
       "<style scoped>\n",
       "    .dataframe tbody tr th:only-of-type {\n",
       "        vertical-align: middle;\n",
       "    }\n",
       "\n",
       "    .dataframe tbody tr th {\n",
       "        vertical-align: top;\n",
       "    }\n",
       "\n",
       "    .dataframe thead th {\n",
       "        text-align: right;\n",
       "    }\n",
       "</style>\n",
       "<table border=\"1\" class=\"dataframe\">\n",
       "  <thead>\n",
       "    <tr style=\"text-align: right;\">\n",
       "      <th></th>\n",
       "      <th>good_word</th>\n",
       "      <th>poor_word</th>\n",
       "    </tr>\n",
       "  </thead>\n",
       "  <tbody>\n",
       "    <tr>\n",
       "      <th>recipient</th>\n",
       "      <td>40745</td>\n",
       "      <td>2960</td>\n",
       "    </tr>\n",
       "  </tbody>\n",
       "</table>\n",
       "</div>"
      ],
      "text/plain": [
       "           good_word  poor_word\n",
       "recipient      40745       2960"
      ]
     },
     "execution_count": 16,
     "metadata": {},
     "output_type": "execute_result"
    }
   ],
   "source": [
    "# counter\n",
    "recipient_df = pd.DataFrame(columns=['good_word','poor_word']\n",
    "                           , index=['recipient'])\n",
    "recipient_df = recipient_df.fillna(0)\n",
    "\n",
    "# parse from good reviews\n",
    "for line in good_reviews_df['line']:\n",
    "    recipient_df.loc['recipient','good_word'] += len(re.findall(recipient_re,line,flags=re.IGNORECASE))\n",
    "    \n",
    "# parse from poor reviews\n",
    "for line in poor_reviews_df['line']:\n",
    "    recipient_df.loc['recipient','poor_word'] += len(re.findall(recipient_re,line,flags=re.IGNORECASE))\n",
    "\n",
    "recipient_df"
   ]
  },
  {
   "cell_type": "code",
   "execution_count": 17,
   "metadata": {},
   "outputs": [
    {
     "data": {
      "text/html": [
       "<div>\n",
       "<style scoped>\n",
       "    .dataframe tbody tr th:only-of-type {\n",
       "        vertical-align: middle;\n",
       "    }\n",
       "\n",
       "    .dataframe tbody tr th {\n",
       "        vertical-align: top;\n",
       "    }\n",
       "\n",
       "    .dataframe thead th {\n",
       "        text-align: right;\n",
       "    }\n",
       "</style>\n",
       "<table border=\"1\" class=\"dataframe\">\n",
       "  <thead>\n",
       "    <tr style=\"text-align: right;\">\n",
       "      <th></th>\n",
       "      <th>good_word</th>\n",
       "      <th>good_review</th>\n",
       "      <th>poor_word</th>\n",
       "      <th>poor_review</th>\n",
       "    </tr>\n",
       "  </thead>\n",
       "  <tbody>\n",
       "    <tr>\n",
       "      <th>christmas</th>\n",
       "      <td>1285</td>\n",
       "      <td>1211</td>\n",
       "      <td>76</td>\n",
       "      <td>70</td>\n",
       "    </tr>\n",
       "    <tr>\n",
       "      <th>birthday</th>\n",
       "      <td>4004</td>\n",
       "      <td>3812</td>\n",
       "      <td>446</td>\n",
       "      <td>411</td>\n",
       "    </tr>\n",
       "    <tr>\n",
       "      <th>anniversary</th>\n",
       "      <td>55</td>\n",
       "      <td>53</td>\n",
       "      <td>5</td>\n",
       "      <td>4</td>\n",
       "    </tr>\n",
       "    <tr>\n",
       "      <th>valentine</th>\n",
       "      <td>23</td>\n",
       "      <td>23</td>\n",
       "      <td>0</td>\n",
       "      <td>0</td>\n",
       "    </tr>\n",
       "    <tr>\n",
       "      <th>thanksgiving</th>\n",
       "      <td>11</td>\n",
       "      <td>11</td>\n",
       "      <td>0</td>\n",
       "      <td>0</td>\n",
       "    </tr>\n",
       "    <tr>\n",
       "      <th>halloween</th>\n",
       "      <td>416</td>\n",
       "      <td>375</td>\n",
       "      <td>21</td>\n",
       "      <td>16</td>\n",
       "    </tr>\n",
       "    <tr>\n",
       "      <th>easter</th>\n",
       "      <td>90</td>\n",
       "      <td>82</td>\n",
       "      <td>4</td>\n",
       "      <td>4</td>\n",
       "    </tr>\n",
       "    <tr>\n",
       "      <th>total</th>\n",
       "      <td>2794429</td>\n",
       "      <td>102188</td>\n",
       "      <td>432911</td>\n",
       "      <td>12696</td>\n",
       "    </tr>\n",
       "  </tbody>\n",
       "</table>\n",
       "</div>"
      ],
      "text/plain": [
       "              good_word  good_review  poor_word  poor_review\n",
       "christmas          1285         1211         76           70\n",
       "birthday           4004         3812        446          411\n",
       "anniversary          55           53          5            4\n",
       "valentine            23           23          0            0\n",
       "thanksgiving         11           11          0            0\n",
       "halloween           416          375         21           16\n",
       "easter               90           82          4            4\n",
       "total           2794429       102188     432911        12696"
      ]
     },
     "execution_count": 17,
     "metadata": {},
     "output_type": "execute_result"
    }
   ],
   "source": [
    "occasion_df"
   ]
  },
  {
   "cell_type": "code",
   "execution_count": 18,
   "metadata": {},
   "outputs": [],
   "source": [
    "total = recipient_df.loc['recipient',:].values.sum() + occasion_df.loc[:,['good_word','poor_word']].values.sum()"
   ]
  },
  {
   "cell_type": "code",
   "execution_count": 19,
   "metadata": {},
   "outputs": [
    {
     "data": {
      "text/plain": [
       "3277481"
      ]
     },
     "execution_count": 19,
     "metadata": {},
     "output_type": "execute_result"
    }
   ],
   "source": [
    "total"
   ]
  },
  {
   "cell_type": "code",
   "execution_count": 20,
   "metadata": {},
   "outputs": [],
   "source": [
    "# regular expression to parse \"son\" / \"children\" / \"Christmas\" as both singular and plural, upper or lower-cased\n",
    "son_count = len(re.findall(r'\\bsons?\\b', good_reviews+poor_reviews, flags=re.IGNORECASE))\n",
    "child_count = len(re.findall(r'\\bchild(?:ren)?\\b', good_reviews+poor_reviews, flags=re.IGNORECASE))\n",
    "christmas_count = len(re.findall(r'\\bchristmas(?:es)?\\b', good_reviews+poor_reviews, flags=re.IGNORECASE))"
   ]
  },
  {
   "cell_type": "markdown",
   "metadata": {},
   "source": [
    "**Answer: The possibility that people may spell words \"son\" / \"children\" / \"Christmas\" as both singular and plural, upper or lower-cased.**"
   ]
  },
  {
   "cell_type": "code",
   "execution_count": 21,
   "metadata": {},
   "outputs": [
    {
     "data": {
      "text/plain": [
       "0.002493073186389181"
      ]
     },
     "execution_count": 21,
     "metadata": {},
     "output_type": "execute_result"
    }
   ],
   "source": [
    "# possibility for spelling son\n",
    "son_count/total"
   ]
  },
  {
   "cell_type": "code",
   "execution_count": 22,
   "metadata": {},
   "outputs": [
    {
     "data": {
      "text/plain": [
       "0.0014074833690874181"
      ]
     },
     "execution_count": 22,
     "metadata": {},
     "output_type": "execute_result"
    }
   ],
   "source": [
    "# possibility for spelling child\n",
    "child_count/total"
   ]
  },
  {
   "cell_type": "code",
   "execution_count": 23,
   "metadata": {},
   "outputs": [
    {
     "data": {
      "text/plain": [
       "0.00038840804874231154"
      ]
     },
     "execution_count": 23,
     "metadata": {},
     "output_type": "execute_result"
    }
   ],
   "source": [
    "# possibility for spelling christmas\n",
    "christmas_count/total"
   ]
  },
  {
   "cell_type": "markdown",
   "metadata": {},
   "source": [
    "# Question 4\n",
    "* Explain what some of pitfalls/limitations are of using only a word count analysis to make these inferences. What additional research/steps would you need to do to verify your conclusions?"
   ]
  },
  {
   "cell_type": "markdown",
   "metadata": {},
   "source": [
    "**Answer: the biggest one is tokenization. When I tokenized the reviews, I made an assumption that every word has a word boundary like whitespace or punctuation. However I found in many cases due to typo the word boundary disappeared.**\n",
    "\n",
    "**Also, using word boundary to tokenize isn't a very accurate way, since in some cases several words should be grouped as one token like 'mothers day'.**\n",
    "\n",
    "**The possible next step will be looking for some powerful packages that can tokenize sentence better.**"
   ]
  }
 ],
 "metadata": {
  "kernelspec": {
   "display_name": "Python 3",
   "language": "python",
   "name": "python3"
  },
  "language_info": {
   "codemirror_mode": {
    "name": "ipython",
    "version": 3
   },
   "file_extension": ".py",
   "mimetype": "text/x-python",
   "name": "python",
   "nbconvert_exporter": "python",
   "pygments_lexer": "ipython3",
   "version": "3.7.1"
  }
 },
 "nbformat": 4,
 "nbformat_minor": 2
}
