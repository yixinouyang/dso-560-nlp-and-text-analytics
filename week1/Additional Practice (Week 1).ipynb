{
 "cells": [
  {
   "cell_type": "markdown",
   "metadata": {
    "toc": true
   },
   "source": [
    "<h1>Table of Contents<span class=\"tocSkip\"></span></h1>\n",
    "<div class=\"toc\"><ul class=\"toc-item\"><li><span><a href=\"#Basic-File-Operations\" data-toc-modified-id=\"Basic-File-Operations-1\"><span class=\"toc-item-num\">1&nbsp;&nbsp;</span>Basic File Operations</a></span><ul class=\"toc-item\"><li><span><a href=\"#Read-the-first-line-from-the-dataset\" data-toc-modified-id=\"Read-the-first-line-from-the-dataset-1.1\"><span class=\"toc-item-num\">1.1&nbsp;&nbsp;</span>Read the first line from the dataset</a></span></li><li><span><a href=\"#Reset-the-pointer-of-the-stream-back-to-the-start-of-the-text-file\" data-toc-modified-id=\"Reset-the-pointer-of-the-stream-back-to-the-start-of-the-text-file-1.2\"><span class=\"toc-item-num\">1.2&nbsp;&nbsp;</span>Reset the pointer of the stream back to the start of the text file</a></span></li><li><span><a href=\"#Read-in-the-Entire-File-as-a-List-of-Strings\" data-toc-modified-id=\"Read-in-the-Entire-File-as-a-List-of-Strings-1.3\"><span class=\"toc-item-num\">1.3&nbsp;&nbsp;</span>Read in the Entire File as a List of Strings</a></span></li><li><span><a href=\"#Read-in-the-Entire-File-as-One-String\" data-toc-modified-id=\"Read-in-the-Entire-File-as-One-String-1.4\"><span class=\"toc-item-num\">1.4&nbsp;&nbsp;</span>Read in the Entire File as One String</a></span></li></ul></li><li><span><a href=\"#Regex\" data-toc-modified-id=\"Regex-2\"><span class=\"toc-item-num\">2&nbsp;&nbsp;</span>Regex</a></span><ul class=\"toc-item\"><li><span><a href=\"#Parse-Out-All-Dollar-Amount-References-In-the-Reviews\" data-toc-modified-id=\"Parse-Out-All-Dollar-Amount-References-In-the-Reviews-2.1\"><span class=\"toc-item-num\">2.1&nbsp;&nbsp;</span>Parse Out All Dollar Amount References In the Reviews</a></span></li></ul></li><li><span><a href=\"#Encodings\" data-toc-modified-id=\"Encodings-3\"><span class=\"toc-item-num\">3&nbsp;&nbsp;</span>Encodings</a></span><ul class=\"toc-item\"><li><span><a href=\"#Load-in-the-example_utf8_encoding.csv\" data-toc-modified-id=\"Load-in-the-example_utf8_encoding.csv-3.1\"><span class=\"toc-item-num\">3.1&nbsp;&nbsp;</span>Load in the <code>example_utf8_encoding.csv</code></a></span><ul class=\"toc-item\"><li><span><a href=\"#Using-a-File-IO-Stream\" data-toc-modified-id=\"Using-a-File-IO-Stream-3.1.1\"><span class=\"toc-item-num\">3.1.1&nbsp;&nbsp;</span>Using a File IO Stream</a></span></li><li><span><a href=\"#Using-Pandas-Dataframe\" data-toc-modified-id=\"Using-Pandas-Dataframe-3.1.2\"><span class=\"toc-item-num\">3.1.2&nbsp;&nbsp;</span>Using Pandas Dataframe</a></span></li></ul></li><li><span><a href=\"#Load-in-example_default_mac_encoding.csv\" data-toc-modified-id=\"Load-in-example_default_mac_encoding.csv-3.2\"><span class=\"toc-item-num\">3.2&nbsp;&nbsp;</span>Load in <code>example_default_mac_encoding.csv</code></a></span></li><li><span><a href=\"#Using-a-File-IO-Stream\" data-toc-modified-id=\"Using-a-File-IO-Stream-3.3\"><span class=\"toc-item-num\">3.3&nbsp;&nbsp;</span>Using a File IO Stream</a></span></li><li><span><a href=\"#Using-Pandas-DataFrame\" data-toc-modified-id=\"Using-Pandas-DataFrame-3.4\"><span class=\"toc-item-num\">3.4&nbsp;&nbsp;</span>Using Pandas DataFrame</a></span></li><li><span><a href=\"#Explain-the-Diffference-in-Output-Between-latin1-and-utf8\" data-toc-modified-id=\"Explain-the-Diffference-in-Output-Between-latin1-and-utf8-3.5\"><span class=\"toc-item-num\">3.5&nbsp;&nbsp;</span>Explain the Diffference in Output Between <code>latin1</code> and <code>utf8</code></a></span></li><li><span><a href=\"#True-or-False\" data-toc-modified-id=\"True-or-False-3.6\"><span class=\"toc-item-num\">3.6&nbsp;&nbsp;</span>True or False</a></span><ul class=\"toc-item\"><li><span><a href=\"#ASCII-is-an-encoding-scheme.\" data-toc-modified-id=\"ASCII-is-an-encoding-scheme.-3.6.1\"><span class=\"toc-item-num\">3.6.1&nbsp;&nbsp;</span>ASCII is an encoding scheme.</a></span></li><li><span><a href=\"#Unicode-is-an-encoding-scheme.\" data-toc-modified-id=\"Unicode-is-an-encoding-scheme.-3.6.2\"><span class=\"toc-item-num\">3.6.2&nbsp;&nbsp;</span>Unicode is an encoding scheme.</a></span></li><li><span><a href=\"#UTF-16-can-represent-twice-as-many-characters-as-UTF-8\" data-toc-modified-id=\"UTF-16-can-represent-twice-as-many-characters-as-UTF-8-3.6.3\"><span class=\"toc-item-num\">3.6.3&nbsp;&nbsp;</span>UTF-16 can represent twice as many characters as UTF-8</a></span></li><li><span><a href=\"#UTF-8-is-more-memory-efficient-than-UTF-16-/-UTF-32.\" data-toc-modified-id=\"UTF-8-is-more-memory-efficient-than-UTF-16-/-UTF-32.-3.6.4\"><span class=\"toc-item-num\">3.6.4&nbsp;&nbsp;</span>UTF-8 is more memory efficient than UTF-16 / UTF-32.</a></span></li><li><span><a href=\"#The-character-🤗-can-be-represented-in-latin1\" data-toc-modified-id=\"The-character-🤗-can-be-represented-in-latin1-3.6.5\"><span class=\"toc-item-num\">3.6.5&nbsp;&nbsp;</span>The character 🤗 can be represented in <code>latin1</code></a></span></li></ul></li><li><span><a href=\"#Unicode-Code-Points\" data-toc-modified-id=\"Unicode-Code-Points-3.7\"><span class=\"toc-item-num\">3.7&nbsp;&nbsp;</span>Unicode Code Points</a></span></li></ul></li></ul></div>"
   ]
  },
  {
   "cell_type": "markdown",
   "metadata": {},
   "source": [
    "This is a notebook for students who\n",
    "* joined the class after Week 1 and need to make up Week 1 in-class credit\n",
    "* have a valid reason why they were unable to attend Week 1 communicated to the instructor **prior to class** and want to make up credit\n",
    "* students who want additional practice"
   ]
  },
  {
   "cell_type": "markdown",
   "metadata": {},
   "source": [
    "# Basic File Operations\n",
    "Load in the `good_amazon_toy_reviews.txt` dataset using `open()`."
   ]
  },
  {
   "cell_type": "code",
   "execution_count": 2,
   "metadata": {},
   "outputs": [],
   "source": [
    "file = open(\"good_amazon_toy_reviews.txt\")"
   ]
  },
  {
   "cell_type": "markdown",
   "metadata": {},
   "source": [
    "## Read the first line from the dataset"
   ]
  },
  {
   "cell_type": "code",
   "execution_count": null,
   "metadata": {},
   "outputs": [],
   "source": []
  },
  {
   "cell_type": "markdown",
   "metadata": {},
   "source": [
    "## Reset the pointer of the stream back to the start of the text file"
   ]
  },
  {
   "cell_type": "code",
   "execution_count": null,
   "metadata": {},
   "outputs": [],
   "source": []
  },
  {
   "cell_type": "markdown",
   "metadata": {},
   "source": [
    "## Read in the Entire File as a List of Strings"
   ]
  },
  {
   "cell_type": "code",
   "execution_count": null,
   "metadata": {},
   "outputs": [],
   "source": []
  },
  {
   "cell_type": "markdown",
   "metadata": {},
   "source": [
    "## Read in the Entire File as One String"
   ]
  },
  {
   "cell_type": "code",
   "execution_count": null,
   "metadata": {},
   "outputs": [],
   "source": []
  },
  {
   "cell_type": "markdown",
   "metadata": {},
   "source": [
    "# Regex"
   ]
  },
  {
   "cell_type": "markdown",
   "metadata": {},
   "source": [
    "## Parse Out All Dollar Amount References In the Reviews\n",
    "Note that people will refer to dollar amounts differently. Some people will say \"X dollars\". Others will use $2.99. First take a look at how people are referring to dollar amounts, and then write a regex that properly finds all references to dollar amounts."
   ]
  },
  {
   "cell_type": "code",
   "execution_count": null,
   "metadata": {},
   "outputs": [],
   "source": []
  },
  {
   "cell_type": "markdown",
   "metadata": {},
   "source": [
    "# Encodings\n"
   ]
  },
  {
   "cell_type": "markdown",
   "metadata": {},
   "source": [
    "## Load in the `example_utf8_encoding.csv`"
   ]
  },
  {
   "cell_type": "markdown",
   "metadata": {},
   "source": [
    "### Using a File IO Stream"
   ]
  },
  {
   "cell_type": "code",
   "execution_count": null,
   "metadata": {},
   "outputs": [],
   "source": []
  },
  {
   "cell_type": "markdown",
   "metadata": {},
   "source": [
    "### Using Pandas Dataframe"
   ]
  },
  {
   "cell_type": "code",
   "execution_count": null,
   "metadata": {},
   "outputs": [],
   "source": []
  },
  {
   "cell_type": "markdown",
   "metadata": {},
   "source": [
    "## Load in `example_default_mac_encoding.csv`"
   ]
  },
  {
   "cell_type": "markdown",
   "metadata": {},
   "source": [
    "## Using a File IO Stream"
   ]
  },
  {
   "cell_type": "code",
   "execution_count": null,
   "metadata": {},
   "outputs": [],
   "source": [
    "\n"
   ]
  },
  {
   "cell_type": "markdown",
   "metadata": {},
   "source": [
    "## Using Pandas DataFrame"
   ]
  },
  {
   "cell_type": "code",
   "execution_count": null,
   "metadata": {},
   "outputs": [],
   "source": [
    "\n"
   ]
  },
  {
   "cell_type": "markdown",
   "metadata": {},
   "source": [
    "## Explain the Diffference in Output Between `latin1` and `utf8`\n",
    "In particular, why are certain characters rendered properly but other ones mangled?"
   ]
  },
  {
   "cell_type": "code",
   "execution_count": null,
   "metadata": {},
   "outputs": [],
   "source": []
  },
  {
   "cell_type": "markdown",
   "metadata": {},
   "source": [
    "## True or False\n",
    "If **False**, explain why it is false."
   ]
  },
  {
   "cell_type": "markdown",
   "metadata": {},
   "source": [
    "### ASCII is an encoding scheme."
   ]
  },
  {
   "cell_type": "code",
   "execution_count": null,
   "metadata": {},
   "outputs": [],
   "source": []
  },
  {
   "cell_type": "markdown",
   "metadata": {},
   "source": [
    "### Unicode is an encoding scheme."
   ]
  },
  {
   "cell_type": "code",
   "execution_count": null,
   "metadata": {},
   "outputs": [],
   "source": []
  },
  {
   "cell_type": "markdown",
   "metadata": {},
   "source": [
    "### UTF-16 can represent twice as many characters as UTF-8"
   ]
  },
  {
   "cell_type": "code",
   "execution_count": null,
   "metadata": {},
   "outputs": [],
   "source": []
  },
  {
   "cell_type": "markdown",
   "metadata": {},
   "source": [
    "### UTF-8 is more memory efficient than UTF-16 / UTF-32."
   ]
  },
  {
   "cell_type": "code",
   "execution_count": null,
   "metadata": {},
   "outputs": [],
   "source": []
  },
  {
   "cell_type": "markdown",
   "metadata": {},
   "source": [
    "### The character 🤗 can be represented in `latin1`"
   ]
  },
  {
   "cell_type": "code",
   "execution_count": null,
   "metadata": {},
   "outputs": [],
   "source": []
  },
  {
   "cell_type": "markdown",
   "metadata": {},
   "source": [
    "## Unicode Code Points\n",
    "\n",
    "1. Is it possible to convert the term `Cuántas` into bytes using **`ASCII`** encoding? If not, why not? If so, show your work (ie. show the multiplication steps - `0 x 64 + 1 x 32 + 0 x 16 ...`."
   ]
  },
  {
   "cell_type": "code",
   "execution_count": null,
   "metadata": {},
   "outputs": [],
   "source": []
  },
  {
   "cell_type": "markdown",
   "metadata": {},
   "source": [
    "2. Is it possible to convert the term `Cuántas` into bytes using **`latin1`** encoding? If not, why not? If so, show your work (ie. show the multiplication steps - `0 x 64 + 1 x 32 + 0 x 16 ...`."
   ]
  },
  {
   "cell_type": "code",
   "execution_count": null,
   "metadata": {},
   "outputs": [],
   "source": []
  }
 ],
 "metadata": {
  "kernelspec": {
   "display_name": "Python 3",
   "language": "python",
   "name": "python3"
  },
  "language_info": {
   "codemirror_mode": {
    "name": "ipython",
    "version": 3
   },
   "file_extension": ".py",
   "mimetype": "text/x-python",
   "name": "python",
   "nbconvert_exporter": "python",
   "pygments_lexer": "ipython3",
   "version": "3.7.5"
  },
  "toc": {
   "base_numbering": 1,
   "nav_menu": {},
   "number_sections": true,
   "sideBar": true,
   "skip_h1_title": false,
   "title_cell": "Table of Contents",
   "title_sidebar": "Contents",
   "toc_cell": true,
   "toc_position": {},
   "toc_section_display": true,
   "toc_window_display": true
  }
 },
 "nbformat": 4,
 "nbformat_minor": 2
}
