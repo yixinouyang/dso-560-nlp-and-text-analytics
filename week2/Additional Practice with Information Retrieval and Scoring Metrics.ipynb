{
 "cells": [
  {
   "cell_type": "markdown",
   "metadata": {
    "toc": true
   },
   "source": [
    "<h1>Table of Contents<span class=\"tocSkip\"></span></h1>\n",
    "<div class=\"toc\"><ul class=\"toc-item\"><li><span><a href=\"#Artwork-Search\" data-toc-modified-id=\"Artwork-Search-1\"><span class=\"toc-item-num\">1&nbsp;&nbsp;</span>Artwork Search</a></span><ul class=\"toc-item\"><li><span><a href=\"#Import-Libraries\" data-toc-modified-id=\"Import-Libraries-1.1\"><span class=\"toc-item-num\">1.1&nbsp;&nbsp;</span>Import Libraries</a></span><ul class=\"toc-item\"><li><span><a href=\"#Load-in-the-Dataset\" data-toc-modified-id=\"Load-in-the-Dataset-1.1.1\"><span class=\"toc-item-num\">1.1.1&nbsp;&nbsp;</span>Load in the Dataset</a></span></li><li><span><a href=\"#Examine-the-Dataset\" data-toc-modified-id=\"Examine-the-Dataset-1.1.2\"><span class=\"toc-item-num\">1.1.2&nbsp;&nbsp;</span>Examine the Dataset</a></span></li></ul></li><li><span><a href=\"#Identify-Positive/Negative-Target-Counts\" data-toc-modified-id=\"Identify-Positive/Negative-Target-Counts-1.2\"><span class=\"toc-item-num\">1.2&nbsp;&nbsp;</span>Identify Positive/Negative Target Counts</a></span></li><li><span><a href=\"#Confusion-Matrix-with-No-Preprocessing\" data-toc-modified-id=\"Confusion-Matrix-with-No-Preprocessing-1.3\"><span class=\"toc-item-num\">1.3&nbsp;&nbsp;</span>Confusion Matrix with No Preprocessing</a></span><ul class=\"toc-item\"><li><span><a href=\"#Compute-Scoring-Metrics\" data-toc-modified-id=\"Compute-Scoring-Metrics-1.3.1\"><span class=\"toc-item-num\">1.3.1&nbsp;&nbsp;</span>Compute Scoring Metrics</a></span><ul class=\"toc-item\"><li><span><a href=\"#Accuracy\" data-toc-modified-id=\"Accuracy-1.3.1.1\"><span class=\"toc-item-num\">1.3.1.1&nbsp;&nbsp;</span>Accuracy</a></span></li><li><span><a href=\"#Precision\" data-toc-modified-id=\"Precision-1.3.1.2\"><span class=\"toc-item-num\">1.3.1.2&nbsp;&nbsp;</span>Precision</a></span></li><li><span><a href=\"#Recall\" data-toc-modified-id=\"Recall-1.3.1.3\"><span class=\"toc-item-num\">1.3.1.3&nbsp;&nbsp;</span>Recall</a></span></li><li><span><a href=\"#F1-Score\" data-toc-modified-id=\"F1-Score-1.3.1.4\"><span class=\"toc-item-num\">1.3.1.4&nbsp;&nbsp;</span>F1 Score</a></span></li></ul></li><li><span><a href=\"#Count-Vectorize-the-Dataset\" data-toc-modified-id=\"Count-Vectorize-the-Dataset-1.3.2\"><span class=\"toc-item-num\">1.3.2&nbsp;&nbsp;</span>Count Vectorize the Dataset</a></span><ul class=\"toc-item\"><li><span><a href=\"#Final-Shape-of-Features\" data-toc-modified-id=\"Final-Shape-of-Features-1.3.2.1\"><span class=\"toc-item-num\">1.3.2.1&nbsp;&nbsp;</span>Final Shape of Features</a></span></li></ul></li><li><span><a href=\"#Remove-Stopwords-and-Perform-Lemmatization\" data-toc-modified-id=\"Remove-Stopwords-and-Perform-Lemmatization-1.3.3\"><span class=\"toc-item-num\">1.3.3&nbsp;&nbsp;</span>Remove Stopwords and Perform Lemmatization</a></span><ul class=\"toc-item\"><li><span><a href=\"#Example-of-a-Function-to-Remove-Stopwords-From-Text\" data-toc-modified-id=\"Example-of-a-Function-to-Remove-Stopwords-From-Text-1.3.3.1\"><span class=\"toc-item-num\">1.3.3.1&nbsp;&nbsp;</span>Example of a Function to Remove Stopwords From Text</a></span></li><li><span><a href=\"#Example-of-a-Function-to-Lemmatize-a-Title\" data-toc-modified-id=\"Example-of-a-Function-to-Lemmatize-a-Title-1.3.3.2\"><span class=\"toc-item-num\">1.3.3.2&nbsp;&nbsp;</span>Example of a Function to Lemmatize a Title</a></span></li><li><span><a href=\"#Applying-a-Function-to-an-Entire-Column-in-Pandas\" data-toc-modified-id=\"Applying-a-Function-to-an-Entire-Column-in-Pandas-1.3.3.3\"><span class=\"toc-item-num\">1.3.3.3&nbsp;&nbsp;</span>Applying a Function to an Entire Column in Pandas</a></span></li><li><span><a href=\"#Count-Vectorize-Your-Documents\" data-toc-modified-id=\"Count-Vectorize-Your-Documents-1.3.3.4\"><span class=\"toc-item-num\">1.3.3.4&nbsp;&nbsp;</span>Count Vectorize Your Documents</a></span></li><li><span><a href=\"#Final-Shape-of-Features\" data-toc-modified-id=\"Final-Shape-of-Features-1.3.3.5\"><span class=\"toc-item-num\">1.3.3.5&nbsp;&nbsp;</span>Final Shape of Features</a></span></li></ul></li><li><span><a href=\"#Compute-Scoring-Metrics\" data-toc-modified-id=\"Compute-Scoring-Metrics-1.3.4\"><span class=\"toc-item-num\">1.3.4&nbsp;&nbsp;</span>Compute Scoring Metrics</a></span><ul class=\"toc-item\"><li><span><a href=\"#Accuracy\" data-toc-modified-id=\"Accuracy-1.3.4.1\"><span class=\"toc-item-num\">1.3.4.1&nbsp;&nbsp;</span>Accuracy</a></span></li><li><span><a href=\"#Recall\" data-toc-modified-id=\"Recall-1.3.4.2\"><span class=\"toc-item-num\">1.3.4.2&nbsp;&nbsp;</span>Recall</a></span></li><li><span><a href=\"#Precision\" data-toc-modified-id=\"Precision-1.3.4.3\"><span class=\"toc-item-num\">1.3.4.3&nbsp;&nbsp;</span>Precision</a></span></li><li><span><a href=\"#F1-Score\" data-toc-modified-id=\"F1-Score-1.3.4.4\"><span class=\"toc-item-num\">1.3.4.4&nbsp;&nbsp;</span>F1 Score</a></span></li></ul></li></ul></li></ul></li></ul></div>"
   ]
  },
  {
   "cell_type": "markdown",
   "metadata": {},
   "source": [
    "# Artwork Search"
   ]
  },
  {
   "cell_type": "markdown",
   "metadata": {},
   "source": [
    "**Background:** You have been hired by an artwork gallery to implement a basic boolean search feature to help users find artwork they are looking for. The manager would like to use whether or not she can search for `woman` and succesfully find artwork related to women.\n",
    "\n",
    "After reviewing **Week 2** notes (in particular, `Text Preprocessing Techniques`), complete this exercise. This is an example of a likely question to appear on the midterm. \n",
    "\n",
    "**Note:** I have put some notes to help you in the cells (along w/ helper functions). Feel free to not use and write your own."
   ]
  },
  {
   "cell_type": "markdown",
   "metadata": {},
   "source": [
    "## Import Libraries"
   ]
  },
  {
   "cell_type": "code",
   "execution_count": 31,
   "metadata": {},
   "outputs": [
    {
     "data": {
      "text/plain": [
       "'0.25.3'"
      ]
     },
     "execution_count": 31,
     "metadata": {},
     "output_type": "execute_result"
    }
   ],
   "source": [
    "pd.__version__\n"
   ]
  },
  {
   "cell_type": "code",
   "execution_count": 13,
   "metadata": {},
   "outputs": [
    {
     "name": "stderr",
     "output_type": "stream",
     "text": [
      "[nltk_data] Downloading package wordnet to /Users/yuchen/nltk_data...\n",
      "[nltk_data]   Package wordnet is already up-to-date!\n",
      "[nltk_data] Downloading package stopwords to\n",
      "[nltk_data]     /Users/yuchen/nltk_data...\n",
      "[nltk_data]   Package stopwords is already up-to-date!\n"
     ]
    },
    {
     "data": {
      "text/plain": [
       "True"
      ]
     },
     "execution_count": 13,
     "metadata": {},
     "output_type": "execute_result"
    }
   ],
   "source": [
    "import pandas as pd\n",
    "import nltk\n",
    "from nltk.stem import WordNetLemmatizer\n",
    "from nltk.stem.porter import PorterStemmer\n",
    "nltk.download('wordnet')\n",
    "nltk.download('stopwords')"
   ]
  },
  {
   "cell_type": "markdown",
   "metadata": {},
   "source": [
    "### Load in the Dataset\n",
    "\n",
    "Read the `artwork_collection.csv` file into a Pandas dataframe."
   ]
  },
  {
   "cell_type": "code",
   "execution_count": null,
   "metadata": {},
   "outputs": [],
   "source": [
    "import pandas as pd\n",
    "collection_df: pd.DataFrame = pd.read_csv(\"artwork_collection.csv\")"
   ]
  },
  {
   "cell_type": "markdown",
   "metadata": {},
   "source": [
    "### Examine the Dataset\n",
    "\n",
    "Look at the first few rows of the dataset using `df.head()` (substitute `df` for whatever you named your dataframe). The **`contains_woman_in_title`** is the target - consider a piece of artwork that \n",
    "- references a woman in the `title` field to be **positive**\n",
    "- those that do contain a reference to a woman in the `title` field not to be **negative**"
   ]
  },
  {
   "cell_type": "markdown",
   "metadata": {},
   "source": [
    "## Identify Positive/Negative Target Counts\n",
    "1. Provide the number of **positives samples** in this art collection:"
   ]
  },
  {
   "cell_type": "code",
   "execution_count": null,
   "metadata": {},
   "outputs": [],
   "source": []
  },
  {
   "cell_type": "markdown",
   "metadata": {},
   "source": [
    "2. Provide the number of **negative samples** in this art collection."
   ]
  },
  {
   "cell_type": "code",
   "execution_count": null,
   "metadata": {},
   "outputs": [],
   "source": []
  },
  {
   "cell_type": "markdown",
   "metadata": {},
   "source": [
    "## Confusion Matrix with No Preprocessing\n",
    "\n",
    "Do an exact match search for `woman` - perform no preprocessing/cleaning/etc. Construct a confusion matrix of \n",
    "\n",
    "* **True Positives**: the number of returned results that has `contains_woman_in_title == 1`.\n",
    "* **True Negatives**: the number of rows that do not return when searching for `woman` that has `contains_woman_in_title == 0`.\n",
    "* **False Positive**: the number of return results that has `contains_woman_in_title == 0`.\n",
    "* **False Negative**: the number of rows that do not return when searching for `woman` that has `contains_woman_in_title == 1`.\n"
   ]
  },
  {
   "cell_type": "code",
   "execution_count": 26,
   "metadata": {},
   "outputs": [],
   "source": [
    "# true positives:\n",
    "# true negatives:\n",
    "# false positives:\n",
    "# false negatives:"
   ]
  },
  {
   "cell_type": "markdown",
   "metadata": {},
   "source": [
    "### Compute Scoring Metrics"
   ]
  },
  {
   "cell_type": "markdown",
   "metadata": {},
   "source": [
    "#### Accuracy"
   ]
  },
  {
   "cell_type": "code",
   "execution_count": null,
   "metadata": {},
   "outputs": [],
   "source": []
  },
  {
   "cell_type": "markdown",
   "metadata": {},
   "source": [
    "#### Precision"
   ]
  },
  {
   "cell_type": "code",
   "execution_count": null,
   "metadata": {},
   "outputs": [],
   "source": []
  },
  {
   "cell_type": "markdown",
   "metadata": {},
   "source": [
    "#### Recall"
   ]
  },
  {
   "cell_type": "code",
   "execution_count": null,
   "metadata": {},
   "outputs": [],
   "source": []
  },
  {
   "cell_type": "markdown",
   "metadata": {},
   "source": [
    "#### F1 Score"
   ]
  },
  {
   "cell_type": "code",
   "execution_count": null,
   "metadata": {},
   "outputs": [],
   "source": []
  },
  {
   "cell_type": "markdown",
   "metadata": {},
   "source": [
    "### Count Vectorize the Dataset\n",
    "Doing no preprocessing, feed in the dataset to `sklearn.feature_extraction.text.CountVectorizer`. You should return another Pandas dataframe with the 1 row per artwork, and 1 column per token."
   ]
  },
  {
   "cell_type": "code",
   "execution_count": 22,
   "metadata": {},
   "outputs": [],
   "source": [
    "from sklearn.feature_extraction.text import CountVectorizer\n",
    "vectorizer = CountVectorizer()"
   ]
  },
  {
   "cell_type": "markdown",
   "metadata": {},
   "source": [
    "#### Final Shape of Features\n",
    "Provide the shape of your new Pandas dataframe."
   ]
  },
  {
   "cell_type": "code",
   "execution_count": null,
   "metadata": {},
   "outputs": [],
   "source": []
  },
  {
   "cell_type": "markdown",
   "metadata": {},
   "source": [
    "### Remove Stopwords and Perform Lemmatization\n",
    "Go back to your original dataframe.\n",
    "\n",
    "1. Remove stopwords (think about what stopwords make sense and which ones make sense given this is an artwork dataset)\n",
    "2. Perform lemmatization."
   ]
  },
  {
   "cell_type": "code",
   "execution_count": 7,
   "metadata": {},
   "outputs": [],
   "source": [
    "from sklearn.feature_extraction.text import CountVectorizer\n",
    "from nltk.corpus import stopwords\n",
    "from nltk.stem import WordNetLemmatizer\n",
    "lemmatizer = WordNetLemmatizer()\n",
    "import nltk\n",
    "nltk_stopwords = set(stopwords.words('english'))"
   ]
  },
  {
   "cell_type": "markdown",
   "metadata": {},
   "source": [
    "#### Example of a Function to Remove Stopwords From Text"
   ]
  },
  {
   "cell_type": "code",
   "execution_count": 12,
   "metadata": {},
   "outputs": [],
   "source": [
    "def remove_stopwords(title: str):\n",
    "    tokens = nltk.word_tokenize(title)\n",
    "    filtered_tokens = list(filter(lambda token: token not in nltk_stopwords, tokens))\n",
    "    return \" \".join(filtered_tokens)"
   ]
  },
  {
   "cell_type": "markdown",
   "metadata": {},
   "source": [
    "#### Example of a Function to Lemmatize a Title\n",
    "We are using the `map` function in Python to iterate through each token in the title."
   ]
  },
  {
   "cell_type": "code",
   "execution_count": 13,
   "metadata": {},
   "outputs": [],
   "source": [
    "def lemmatize_title(title: str):\n",
    "    tokens = nltk.word_tokenize(title)\n",
    "    lemmatized_tokens = list(map(lambda token: lemmatizer.lemmatize(token), tokens))\n",
    "    return \" \".join(lemmatized_tokens)"
   ]
  },
  {
   "cell_type": "markdown",
   "metadata": {},
   "source": [
    "#### Applying a Function to an Entire Column in Pandas\n",
    "\n",
    "You can apply this function to an entire column (in this case, the `title` column) using Pandas' `apply` function:\n",
    "\n",
    "```python\n",
    "df[\"cleaned_title\"] = df[\"title\"].apply(remove_stopwords)\n",
    "```\n",
    "\n",
    "This will return a new column called `cleaned_title` that has applied the `remove_stopwords` function to each row's `title` field."
   ]
  },
  {
   "cell_type": "code",
   "execution_count": 11,
   "metadata": {},
   "outputs": [],
   "source": [
    "# perform stopword removal\n",
    "\n"
   ]
  },
  {
   "cell_type": "code",
   "execution_count": 30,
   "metadata": {},
   "outputs": [],
   "source": [
    "# perform lemmatization\n",
    "\n"
   ]
  },
  {
   "cell_type": "markdown",
   "metadata": {},
   "source": [
    "#### Count Vectorize Your Documents"
   ]
  },
  {
   "cell_type": "code",
   "execution_count": 25,
   "metadata": {},
   "outputs": [],
   "source": [
    "# perform count vectorization after stopwords and lemmatization have been applied\n",
    "\n",
    "\n"
   ]
  },
  {
   "cell_type": "markdown",
   "metadata": {},
   "source": [
    "#### Final Shape of Features\n",
    "Provide the shape of your new Pandas dataframe (after removing stopwords, lemmatizing, and count vectorizing)"
   ]
  },
  {
   "cell_type": "code",
   "execution_count": null,
   "metadata": {},
   "outputs": [],
   "source": []
  },
  {
   "cell_type": "markdown",
   "metadata": {},
   "source": [
    "### Compute Scoring Metrics\n",
    "\n",
    "Again, search for `woman` in your new cleaned and filtered `titles` field. The results should an improvement. Compute the scoring metrics:"
   ]
  },
  {
   "cell_type": "markdown",
   "metadata": {},
   "source": [
    "#### Accuracy"
   ]
  },
  {
   "cell_type": "code",
   "execution_count": null,
   "metadata": {},
   "outputs": [],
   "source": []
  },
  {
   "cell_type": "markdown",
   "metadata": {},
   "source": [
    "#### Recall"
   ]
  },
  {
   "cell_type": "code",
   "execution_count": null,
   "metadata": {},
   "outputs": [],
   "source": []
  },
  {
   "cell_type": "markdown",
   "metadata": {},
   "source": [
    "#### Precision"
   ]
  },
  {
   "cell_type": "code",
   "execution_count": null,
   "metadata": {},
   "outputs": [],
   "source": []
  },
  {
   "cell_type": "markdown",
   "metadata": {},
   "source": [
    "#### F1 Score"
   ]
  },
  {
   "cell_type": "code",
   "execution_count": null,
   "metadata": {},
   "outputs": [],
   "source": []
  }
 ],
 "metadata": {
  "kernelspec": {
   "display_name": "Python 3",
   "language": "python",
   "name": "python3"
  },
  "language_info": {
   "codemirror_mode": {
    "name": "ipython",
    "version": 3
   },
   "file_extension": ".py",
   "mimetype": "text/x-python",
   "name": "python",
   "nbconvert_exporter": "python",
   "pygments_lexer": "ipython3",
   "version": "3.7.5"
  },
  "toc": {
   "base_numbering": 1,
   "nav_menu": {},
   "number_sections": true,
   "sideBar": true,
   "skip_h1_title": false,
   "title_cell": "Table of Contents",
   "title_sidebar": "Contents",
   "toc_cell": true,
   "toc_position": {},
   "toc_section_display": true,
   "toc_window_display": true
  }
 },
 "nbformat": 4,
 "nbformat_minor": 2
}
