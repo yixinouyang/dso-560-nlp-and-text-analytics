{
 "cells": [
  {
   "cell_type": "markdown",
   "metadata": {},
   "source": [
    "## Midterm"
   ]
  },
  {
   "cell_type": "markdown",
   "metadata": {},
   "source": [
    "* **April 21st, 6:40pm - 8:00pm PST**\n",
    "* Open everything\n",
    "* Covers Weeks 1-5\n",
    "* Handwritten $\\rightarrow$ scanned and direct-messaged to me by **8:00pm PST**.\n",
    "* Benchmarks for grades: last year, unscaled scores were 14/20. Average final GPA of grades last year was 3.6\n",
    "* Yes, we still have class afterwards (a 10 minute break, then class until 9:20pm PST)\n",
    "* You can use last year's [scoring rubric to see how I will grade](https://github.com/ychennay/dso-599-text-analytics-nlp/blob/master/week5/Midterm%20Exam%20Scoring%20Rubric.pdf).\n",
    "\n",
    "Because this is open everything, you have to master the concepts and be prepared to do the problems efficienctly. If you do not do it quickly, and get confused, you will not finish the test."
   ]
  },
  {
   "cell_type": "markdown",
   "metadata": {},
   "source": [
    "##  Major topics:\n",
    "- Preprocessing steps, including reading regex, lemmatization, stemming\n",
    "- model evaluation: precision, recall, F1 score, AUROC\n",
    "- count vectorization, TF-IDF, and word2vec\n",
    "- cosine similarity, Euclidean distance\n",
    "- topic modelling\n",
    "- Naive Bayes and probability question\n",
    "- dimensionality reduction\n",
    "- N-Gram language models (I give you a sentence, you tell me how likely that sentence is to exist)"
   ]
  },
  {
   "cell_type": "markdown",
   "metadata": {},
   "source": [
    "### Post-Midterm"
   ]
  },
  {
   "cell_type": "markdown",
   "metadata": {},
   "source": [
    "* Group project\n",
    "* Recommendation systems w/ NLP\n",
    "* deep learning and self-attention models\n",
    "* **BERT** (bi-directional encoded representational transfer)"
   ]
  },
  {
   "cell_type": "markdown",
   "metadata": {},
   "source": [
    "## Calendar\n",
    "\n",
    "* I will send a practice study guide by Tuesday, 11:59pm PST evening, April 14th. This is your **HW 4**. It is due Sunday 11:59pm PST.\n",
    "* I will release answers to **HW4 study guide** by Sunday, 11:59pm PST April 19th."
   ]
  }
 ],
 "metadata": {
  "kernelspec": {
   "display_name": "Python 3",
   "language": "python",
   "name": "python3"
  },
  "language_info": {
   "codemirror_mode": {
    "name": "ipython",
    "version": 3
   },
   "file_extension": ".py",
   "mimetype": "text/x-python",
   "name": "python",
   "nbconvert_exporter": "python",
   "pygments_lexer": "ipython3",
   "version": "3.7.7"
  },
  "toc": {
   "base_numbering": 1,
   "nav_menu": {},
   "number_sections": true,
   "sideBar": true,
   "skip_h1_title": false,
   "title_cell": "Table of Contents",
   "title_sidebar": "Contents",
   "toc_cell": false,
   "toc_position": {},
   "toc_section_display": true,
   "toc_window_display": false
  }
 },
 "nbformat": 4,
 "nbformat_minor": 2
}
