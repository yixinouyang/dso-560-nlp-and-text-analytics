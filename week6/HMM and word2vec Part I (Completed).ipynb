{
 "cells": [
  {
   "cell_type": "markdown",
   "metadata": {
    "toc": true
   },
   "source": [
    "<h1>Table of Contents<span class=\"tocSkip\"></span></h1>\n",
    "<div class=\"toc\"><ul class=\"toc-item\"><li><span><a href=\"#Spacy\" data-toc-modified-id=\"Spacy-1\"><span class=\"toc-item-num\">1&nbsp;&nbsp;</span>Spacy</a></span><ul class=\"toc-item\"><li><ul class=\"toc-item\"><li><span><a href=\"#Models\" data-toc-modified-id=\"Models-1.0.1\"><span class=\"toc-item-num\">1.0.1&nbsp;&nbsp;</span>Models</a></span></li></ul></li><li><span><a href=\"#Pattern-Matching-Using-Spacy\" data-toc-modified-id=\"Pattern-Matching-Using-Spacy-1.1\"><span class=\"toc-item-num\">1.1&nbsp;&nbsp;</span>Pattern Matching Using Spacy</a></span><ul class=\"toc-item\"><li><span><a href=\"#Define-the-Target-Pattern\" data-toc-modified-id=\"Define-the-Target-Pattern-1.1.1\"><span class=\"toc-item-num\">1.1.1&nbsp;&nbsp;</span>Define the Target Pattern</a></span></li><li><span><a href=\"#Load-the-Pattern-into-the-Matcher\" data-toc-modified-id=\"Load-the-Pattern-into-the-Matcher-1.1.2\"><span class=\"toc-item-num\">1.1.2&nbsp;&nbsp;</span>Load the Pattern into the Matcher</a></span></li></ul></li><li><span><a href=\"#Using-Regular-Expressions-in-Spacy\" data-toc-modified-id=\"Using-Regular-Expressions-in-Spacy-1.2\"><span class=\"toc-item-num\">1.2&nbsp;&nbsp;</span>Using Regular Expressions in Spacy</a></span></li><li><span><a href=\"#Part-of-Speech-Tagging\" data-toc-modified-id=\"Part-of-Speech-Tagging-1.3\"><span class=\"toc-item-num\">1.3&nbsp;&nbsp;</span>Part of Speech Tagging</a></span><ul class=\"toc-item\"><li><ul class=\"toc-item\"><li><span><a href=\"#Legend-for-spaCy-outputs-(https://spacy.io/usage/linguistic-features):\" data-toc-modified-id=\"Legend-for-spaCy-outputs-(https://spacy.io/usage/linguistic-features):-1.3.0.1\"><span class=\"toc-item-num\">1.3.0.1&nbsp;&nbsp;</span>Legend for <code>spaCy</code> outputs (<a href=\"https://spacy.io/usage/linguistic-features\" target=\"_blank\">https://spacy.io/usage/linguistic-features</a>):</a></span></li></ul></li></ul></li><li><span><a href=\"#Part-of-Speech-Tagging\" data-toc-modified-id=\"Part-of-Speech-Tagging-1.4\"><span class=\"toc-item-num\">1.4&nbsp;&nbsp;</span>Part of Speech Tagging</a></span></li><li><span><a href=\"#Hidden-Markov-Models\" data-toc-modified-id=\"Hidden-Markov-Models-1.5\"><span class=\"toc-item-num\">1.5&nbsp;&nbsp;</span>Hidden Markov Models</a></span><ul class=\"toc-item\"><li><span><a href=\"#Examples\" data-toc-modified-id=\"Examples-1.5.1\"><span class=\"toc-item-num\">1.5.1&nbsp;&nbsp;</span>Examples</a></span><ul class=\"toc-item\"><li><span><a href=\"#$V$\" data-toc-modified-id=\"$V$-1.5.1.1\"><span class=\"toc-item-num\">1.5.1.1&nbsp;&nbsp;</span>$V$</a></span></li><li><span><a href=\"#$O$\" data-toc-modified-id=\"$O$-1.5.1.2\"><span class=\"toc-item-num\">1.5.1.2&nbsp;&nbsp;</span>$O$</a></span></li><li><span><a href=\"#$A$\" data-toc-modified-id=\"$A$-1.5.1.3\"><span class=\"toc-item-num\">1.5.1.3&nbsp;&nbsp;</span>$A$</a></span></li><li><span><a href=\"#$B$\" data-toc-modified-id=\"$B$-1.5.1.4\"><span class=\"toc-item-num\">1.5.1.4&nbsp;&nbsp;</span>$B$</a></span></li><li><span><a href=\"#$\\pi$\" data-toc-modified-id=\"$\\pi$-1.5.1.5\"><span class=\"toc-item-num\">1.5.1.5&nbsp;&nbsp;</span>$\\pi$</a></span></li></ul></li></ul></li><li><span><a href=\"#Using-Hidden-Markov-Models-for-Tagging\" data-toc-modified-id=\"Using-Hidden-Markov-Models-for-Tagging-1.6\"><span class=\"toc-item-num\">1.6&nbsp;&nbsp;</span>Using Hidden Markov Models for Tagging</a></span><ul class=\"toc-item\"><li><span><a href=\"#Exercise-(15-minutes)\" data-toc-modified-id=\"Exercise-(15-minutes)-1.6.1\"><span class=\"toc-item-num\">1.6.1&nbsp;&nbsp;</span>Exercise (15 minutes)</a></span></li><li><span><a href=\"#Named-Entity-Recognition\" data-toc-modified-id=\"Named-Entity-Recognition-1.6.2\"><span class=\"toc-item-num\">1.6.2&nbsp;&nbsp;</span>Named Entity Recognition</a></span></li></ul></li><li><span><a href=\"#Merging-and-Splitting\" data-toc-modified-id=\"Merging-and-Splitting-1.7\"><span class=\"toc-item-num\">1.7&nbsp;&nbsp;</span>Merging and Splitting</a></span></li></ul></li><li><span><a href=\"#Word-Embeddings-(word2vec-Introduction)\" data-toc-modified-id=\"Word-Embeddings-(word2vec-Introduction)-2\"><span class=\"toc-item-num\">2&nbsp;&nbsp;</span>Word Embeddings (word2vec Introduction)</a></span><ul class=\"toc-item\"><li><span><a href=\"#Continuous-Bag-of-Words-(Use-Context-to-Predict-Target-Word)\" data-toc-modified-id=\"Continuous-Bag-of-Words-(Use-Context-to-Predict-Target-Word)-2.1\"><span class=\"toc-item-num\">2.1&nbsp;&nbsp;</span>Continuous Bag of Words (Use Context to Predict Target Word)</a></span></li><li><span><a href=\"#Softmax\" data-toc-modified-id=\"Softmax-2.2\"><span class=\"toc-item-num\">2.2&nbsp;&nbsp;</span>Softmax</a></span></li><li><span><a href=\"#Skipgram\" data-toc-modified-id=\"Skipgram-2.3\"><span class=\"toc-item-num\">2.3&nbsp;&nbsp;</span>Skipgram</a></span></li><li><span><a href=\"#Clusters-pf-Words\" data-toc-modified-id=\"Clusters-pf-Words-2.4\"><span class=\"toc-item-num\">2.4&nbsp;&nbsp;</span>Clusters pf Words</a></span></li></ul></li><li><span><a href=\"#Finding-Most-Similar-Words-(Using-Our-Old-Methods)\" data-toc-modified-id=\"Finding-Most-Similar-Words-(Using-Our-Old-Methods)-3\"><span class=\"toc-item-num\">3&nbsp;&nbsp;</span>Finding Most Similar Words (Using Our Old Methods)</a></span></li><li><span><a href=\"#Exercise:-Similar-Words-Using-Word-Embeddings\" data-toc-modified-id=\"Exercise:-Similar-Words-Using-Word-Embeddings-4\"><span class=\"toc-item-num\">4&nbsp;&nbsp;</span>Exercise: Similar Words Using Word Embeddings</a></span></li></ul></div>"
   ]
  },
  {
   "cell_type": "markdown",
   "metadata": {},
   "source": [
    "# Spacy"
   ]
  },
  {
   "cell_type": "markdown",
   "metadata": {},
   "source": [
    "### Models\n",
    "\n",
    "Spacy comes with a variety of different models that can used per language. For instance, the models for English are available [here](https://spacy.io/models/en). You'll need to download each model separately:\n",
    "\n",
    "```python\n",
    "python3 -m spacy download en_core_web_sm\n",
    "python3 -m spacy download en_core_web_md\n",
    "\n",
    "```"
   ]
  },
  {
   "cell_type": "markdown",
   "metadata": {},
   "source": [
    "## Pattern Matching Using Spacy"
   ]
  },
  {
   "cell_type": "markdown",
   "metadata": {},
   "source": [
    "The below code and example is from Ashiq KS's article [Rule-Based Matching with spacy](https://medium.com/@ashiqgiga07/rule-based-matching-with-spacy-295b76ca2b68):"
   ]
  },
  {
   "cell_type": "code",
   "execution_count": 2,
   "metadata": {},
   "outputs": [],
   "source": [
    "import spacy"
   ]
  },
  {
   "cell_type": "code",
   "execution_count": 3,
   "metadata": {},
   "outputs": [],
   "source": [
    "#The input text string is converted to a Document object\n",
    "text = '''\n",
    "Computer programming is the process of writing instructions that get executed by computers. \n",
    "The instructions, also known as code, are written in a programming language which the computer \n",
    "can understand and use to perform a task or solve a problem. Basic computer programming involves \n",
    "the analysis of a problem and development of a logical sequence of instructions to solve it. \n",
    "There can be numerous paths to a solution and the computer programmer seeks to design and \n",
    "code that which is most efficient. Among the programmer’s tasks are understanding requirements, \n",
    "determining the right programming language to use, designing or architecting the solution, coding, \n",
    "testing, debugging and writing documentation so that the solution can be easily\n",
    "understood by other programmers.Computer programming is at the heart of computer science. It is the \n",
    "implementation portion of software development, application development \n",
    "and software engineering efforts, transforming ideas and theories into actual, working solutions.\n",
    "'''"
   ]
  },
  {
   "cell_type": "code",
   "execution_count": 10,
   "metadata": {},
   "outputs": [],
   "source": [
    "from spacy.matcher import Matcher #import Matcher class from spacy\n",
    "#import the Span class to extract the words from the document object\n",
    "from spacy.tokens import Span \n",
    "\n",
    "#Language class with the English model 'en_core_web_sm' is loaded\n",
    "nlp = spacy.load(\"en_core_web_sm\")\n",
    "\n",
    "doc = nlp(text) # convert the string above to a document\n",
    "\n",
    "#instantiate a new Matcher class object \n",
    "matcher = Matcher(nlp.vocab)"
   ]
  },
  {
   "cell_type": "markdown",
   "metadata": {},
   "source": [
    "### Define the Target Pattern"
   ]
  },
  {
   "cell_type": "markdown",
   "metadata": {},
   "source": [
    "The `pattern` object that you define should be a list of dictionary elements, each dictionary describing the token to match for. \n",
    "\n",
    "Here, we "
   ]
  },
  {
   "cell_type": "code",
   "execution_count": null,
   "metadata": {},
   "outputs": [],
   "source": [
    "\"eats\" -> verb"
   ]
  },
  {
   "cell_type": "code",
   "execution_count": 11,
   "metadata": {},
   "outputs": [],
   "source": [
    "#define the pattern\n",
    "pattern = [{'LOWER': 'computer', 'POS': 'NOUN'},\n",
    "             {'POS':{'NOT_IN': ['VERB']}}]\n"
   ]
  },
  {
   "cell_type": "markdown",
   "metadata": {},
   "source": [
    "### Load the Pattern into the Matcher"
   ]
  },
  {
   "cell_type": "code",
   "execution_count": 12,
   "metadata": {},
   "outputs": [],
   "source": [
    "#add the pattern to the previously created matcher object\n",
    "matcher.add(\"Matching\", None, pattern)"
   ]
  },
  {
   "cell_type": "markdown",
   "metadata": {},
   "source": [
    "## Using Regular Expressions in Spacy"
   ]
  },
  {
   "cell_type": "markdown",
   "metadata": {},
   "source": [
    "The below example can be found at https://spacy.io/usage/rule-based-matching. It uses the `re.finditer()` function to\n",
    "quickly iterate through all the matches found. "
   ]
  },
  {
   "cell_type": "code",
   "execution_count": 13,
   "metadata": {},
   "outputs": [
    {
     "name": "stdout",
     "output_type": "stream",
     "text": [
      "Found match: United States\n",
      "Found match: United States\n",
      "Found match: U.S.\n",
      "Found match: US\n"
     ]
    }
   ],
   "source": [
    "import spacy\n",
    "import re\n",
    "nlp = spacy.load(\"en_core_web_sm\")\n",
    "doc = nlp(\"The United States of America (USA) are commonly known as the United States (U.S. or US) or America.\")\n",
    "\n",
    "expression = r\"[Uu](nited|\\.?) ?[Ss](tates|\\.?)\"\n",
    "for match in re.finditer(expression, doc.text):\n",
    "    start, end = match.span()\n",
    "    span = doc.char_span(start, end)\n",
    "    # This is a Span object or None if match doesn't map to valid token sequence\n",
    "    if span is not None:\n",
    "        print(\"Found match:\", span.text)"
   ]
  },
  {
   "cell_type": "markdown",
   "metadata": {},
   "source": [
    "## Part of Speech Tagging"
   ]
  },
  {
   "cell_type": "code",
   "execution_count": 14,
   "metadata": {},
   "outputs": [],
   "source": [
    "import en_core_web_sm\n",
    "import spacy\n",
    "from scipy.spatial.distance import cosine\n",
    "import spacy\n",
    "\n",
    "nlp = spacy.load('en_core_web_md')"
   ]
  },
  {
   "cell_type": "code",
   "execution_count": 17,
   "metadata": {},
   "outputs": [],
   "source": [
    "import pandas as pd\n",
    "def analyze_text(text):\n",
    "    rows = []\n",
    "    doc = nlp(text)\n",
    "    for token in doc:\n",
    "        rows.append((token.text, token.lemma_, token.pos_, token.tag_, token.dep_,\n",
    "                     token.shape_, token.is_alpha, token.is_stop))\n",
    "    data = pd.DataFrame(rows, columns=[\"text\", \"lemma\", \"part_of_speech\", \"tag\", \"dependency\", \"shape\", \"is_alphanumeric\", \"is_stopword\"])\n",
    "    return data"
   ]
  },
  {
   "cell_type": "code",
   "execution_count": 18,
   "metadata": {},
   "outputs": [
    {
     "data": {
      "text/html": [
       "<div>\n",
       "<style scoped>\n",
       "    .dataframe tbody tr th:only-of-type {\n",
       "        vertical-align: middle;\n",
       "    }\n",
       "\n",
       "    .dataframe tbody tr th {\n",
       "        vertical-align: top;\n",
       "    }\n",
       "\n",
       "    .dataframe thead th {\n",
       "        text-align: right;\n",
       "    }\n",
       "</style>\n",
       "<table border=\"1\" class=\"dataframe\">\n",
       "  <thead>\n",
       "    <tr style=\"text-align: right;\">\n",
       "      <th></th>\n",
       "      <th>text</th>\n",
       "      <th>lemma</th>\n",
       "      <th>part_of_speech</th>\n",
       "      <th>tag</th>\n",
       "      <th>dependency</th>\n",
       "      <th>shape</th>\n",
       "      <th>is_alphanumeric</th>\n",
       "      <th>is_stopword</th>\n",
       "    </tr>\n",
       "  </thead>\n",
       "  <tbody>\n",
       "    <tr>\n",
       "      <th>0</th>\n",
       "      <td>Steve</td>\n",
       "      <td>Steve</td>\n",
       "      <td>PROPN</td>\n",
       "      <td>NNP</td>\n",
       "      <td>compound</td>\n",
       "      <td>Xxxxx</td>\n",
       "      <td>True</td>\n",
       "      <td>False</td>\n",
       "    </tr>\n",
       "    <tr>\n",
       "      <th>1</th>\n",
       "      <td>Jobs</td>\n",
       "      <td>Jobs</td>\n",
       "      <td>PROPN</td>\n",
       "      <td>NNP</td>\n",
       "      <td>nsubj</td>\n",
       "      <td>Xxxx</td>\n",
       "      <td>True</td>\n",
       "      <td>False</td>\n",
       "    </tr>\n",
       "    <tr>\n",
       "      <th>2</th>\n",
       "      <td>and</td>\n",
       "      <td>and</td>\n",
       "      <td>CCONJ</td>\n",
       "      <td>CC</td>\n",
       "      <td>cc</td>\n",
       "      <td>xxx</td>\n",
       "      <td>True</td>\n",
       "      <td>True</td>\n",
       "    </tr>\n",
       "    <tr>\n",
       "      <th>3</th>\n",
       "      <td>Apple</td>\n",
       "      <td>Apple</td>\n",
       "      <td>PROPN</td>\n",
       "      <td>NNP</td>\n",
       "      <td>conj</td>\n",
       "      <td>Xxxxx</td>\n",
       "      <td>True</td>\n",
       "      <td>False</td>\n",
       "    </tr>\n",
       "    <tr>\n",
       "      <th>4</th>\n",
       "      <td>is</td>\n",
       "      <td>be</td>\n",
       "      <td>AUX</td>\n",
       "      <td>VBZ</td>\n",
       "      <td>aux</td>\n",
       "      <td>xx</td>\n",
       "      <td>True</td>\n",
       "      <td>True</td>\n",
       "    </tr>\n",
       "    <tr>\n",
       "      <th>5</th>\n",
       "      <td>looking</td>\n",
       "      <td>look</td>\n",
       "      <td>VERB</td>\n",
       "      <td>VBG</td>\n",
       "      <td>ROOT</td>\n",
       "      <td>xxxx</td>\n",
       "      <td>True</td>\n",
       "      <td>False</td>\n",
       "    </tr>\n",
       "    <tr>\n",
       "      <th>6</th>\n",
       "      <td>at</td>\n",
       "      <td>at</td>\n",
       "      <td>ADP</td>\n",
       "      <td>IN</td>\n",
       "      <td>prep</td>\n",
       "      <td>xx</td>\n",
       "      <td>True</td>\n",
       "      <td>True</td>\n",
       "    </tr>\n",
       "    <tr>\n",
       "      <th>7</th>\n",
       "      <td>buying</td>\n",
       "      <td>buy</td>\n",
       "      <td>VERB</td>\n",
       "      <td>VBG</td>\n",
       "      <td>pcomp</td>\n",
       "      <td>xxxx</td>\n",
       "      <td>True</td>\n",
       "      <td>False</td>\n",
       "    </tr>\n",
       "    <tr>\n",
       "      <th>8</th>\n",
       "      <td>U.K.</td>\n",
       "      <td>U.K.</td>\n",
       "      <td>PROPN</td>\n",
       "      <td>NNP</td>\n",
       "      <td>compound</td>\n",
       "      <td>X.X.</td>\n",
       "      <td>False</td>\n",
       "      <td>False</td>\n",
       "    </tr>\n",
       "    <tr>\n",
       "      <th>9</th>\n",
       "      <td>startup</td>\n",
       "      <td>startup</td>\n",
       "      <td>NOUN</td>\n",
       "      <td>NN</td>\n",
       "      <td>dobj</td>\n",
       "      <td>xxxx</td>\n",
       "      <td>True</td>\n",
       "      <td>False</td>\n",
       "    </tr>\n",
       "    <tr>\n",
       "      <th>10</th>\n",
       "      <td>for</td>\n",
       "      <td>for</td>\n",
       "      <td>ADP</td>\n",
       "      <td>IN</td>\n",
       "      <td>prep</td>\n",
       "      <td>xxx</td>\n",
       "      <td>True</td>\n",
       "      <td>True</td>\n",
       "    </tr>\n",
       "    <tr>\n",
       "      <th>11</th>\n",
       "      <td>$</td>\n",
       "      <td>$</td>\n",
       "      <td>SYM</td>\n",
       "      <td>$</td>\n",
       "      <td>quantmod</td>\n",
       "      <td>$</td>\n",
       "      <td>False</td>\n",
       "      <td>False</td>\n",
       "    </tr>\n",
       "    <tr>\n",
       "      <th>12</th>\n",
       "      <td>1</td>\n",
       "      <td>1</td>\n",
       "      <td>NUM</td>\n",
       "      <td>CD</td>\n",
       "      <td>compound</td>\n",
       "      <td>d</td>\n",
       "      <td>False</td>\n",
       "      <td>False</td>\n",
       "    </tr>\n",
       "    <tr>\n",
       "      <th>13</th>\n",
       "      <td>billion</td>\n",
       "      <td>billion</td>\n",
       "      <td>NUM</td>\n",
       "      <td>CD</td>\n",
       "      <td>pobj</td>\n",
       "      <td>xxxx</td>\n",
       "      <td>True</td>\n",
       "      <td>False</td>\n",
       "    </tr>\n",
       "  </tbody>\n",
       "</table>\n",
       "</div>"
      ],
      "text/plain": [
       "       text    lemma part_of_speech  tag dependency  shape  is_alphanumeric  \\\n",
       "0     Steve    Steve          PROPN  NNP   compound  Xxxxx             True   \n",
       "1      Jobs     Jobs          PROPN  NNP      nsubj   Xxxx             True   \n",
       "2       and      and          CCONJ   CC         cc    xxx             True   \n",
       "3     Apple    Apple          PROPN  NNP       conj  Xxxxx             True   \n",
       "4        is       be            AUX  VBZ        aux     xx             True   \n",
       "5   looking     look           VERB  VBG       ROOT   xxxx             True   \n",
       "6        at       at            ADP   IN       prep     xx             True   \n",
       "7    buying      buy           VERB  VBG      pcomp   xxxx             True   \n",
       "8      U.K.     U.K.          PROPN  NNP   compound   X.X.            False   \n",
       "9   startup  startup           NOUN   NN       dobj   xxxx             True   \n",
       "10      for      for            ADP   IN       prep    xxx             True   \n",
       "11        $        $            SYM    $   quantmod      $            False   \n",
       "12        1        1            NUM   CD   compound      d            False   \n",
       "13  billion  billion            NUM   CD       pobj   xxxx             True   \n",
       "\n",
       "    is_stopword  \n",
       "0         False  \n",
       "1         False  \n",
       "2          True  \n",
       "3         False  \n",
       "4          True  \n",
       "5         False  \n",
       "6          True  \n",
       "7         False  \n",
       "8         False  \n",
       "9         False  \n",
       "10         True  \n",
       "11        False  \n",
       "12        False  \n",
       "13        False  "
      ]
     },
     "execution_count": 18,
     "metadata": {},
     "output_type": "execute_result"
    }
   ],
   "source": [
    "analyze_text(u\"Steve Jobs and Apple is looking at buying U.K. startup for $1 billion\")"
   ]
  },
  {
   "cell_type": "markdown",
   "metadata": {},
   "source": [
    "#### Legend for `spaCy` outputs (https://spacy.io/usage/linguistic-features):"
   ]
  },
  {
   "cell_type": "markdown",
   "metadata": {},
   "source": [
    "* `Text`: The original word text.\n",
    "* `Lemma`: The base form of the word.\n",
    "* `POS`: The simple part-of-speech tag.\n",
    "* `Tag`: The detailed part-of-speech tag.\n",
    "* `Dep`: Syntactic dependency, i.e. the relation between tokens.\n",
    "* `Shape`: The word shape – capitalization, punctuation, digits.\n",
    "* `is alpha`: Is the token an alpha character?\n",
    "* `is stop`: Is the token part of a stop list, i.e. the most common words of the language?"
   ]
  },
  {
   "cell_type": "code",
   "execution_count": 19,
   "metadata": {},
   "outputs": [
    {
     "data": {
      "text/html": [
       "<div>\n",
       "<style scoped>\n",
       "    .dataframe tbody tr th:only-of-type {\n",
       "        vertical-align: middle;\n",
       "    }\n",
       "\n",
       "    .dataframe tbody tr th {\n",
       "        vertical-align: top;\n",
       "    }\n",
       "\n",
       "    .dataframe thead th {\n",
       "        text-align: right;\n",
       "    }\n",
       "</style>\n",
       "<table border=\"1\" class=\"dataframe\">\n",
       "  <thead>\n",
       "    <tr style=\"text-align: right;\">\n",
       "      <th></th>\n",
       "      <th>text</th>\n",
       "      <th>lemma</th>\n",
       "      <th>part_of_speech</th>\n",
       "      <th>tag</th>\n",
       "      <th>dependency</th>\n",
       "      <th>shape</th>\n",
       "      <th>is_alphanumeric</th>\n",
       "      <th>is_stopword</th>\n",
       "    </tr>\n",
       "  </thead>\n",
       "  <tbody>\n",
       "    <tr>\n",
       "      <th>0</th>\n",
       "      <td>Many</td>\n",
       "      <td>many</td>\n",
       "      <td>ADJ</td>\n",
       "      <td>JJ</td>\n",
       "      <td>amod</td>\n",
       "      <td>Xxxx</td>\n",
       "      <td>True</td>\n",
       "      <td>True</td>\n",
       "    </tr>\n",
       "    <tr>\n",
       "      <th>1</th>\n",
       "      <td>jobs</td>\n",
       "      <td>job</td>\n",
       "      <td>NOUN</td>\n",
       "      <td>NNS</td>\n",
       "      <td>nsubj</td>\n",
       "      <td>xxxx</td>\n",
       "      <td>True</td>\n",
       "      <td>False</td>\n",
       "    </tr>\n",
       "    <tr>\n",
       "      <th>2</th>\n",
       "      <td>will</td>\n",
       "      <td>will</td>\n",
       "      <td>VERB</td>\n",
       "      <td>MD</td>\n",
       "      <td>aux</td>\n",
       "      <td>xxxx</td>\n",
       "      <td>True</td>\n",
       "      <td>True</td>\n",
       "    </tr>\n",
       "    <tr>\n",
       "      <th>3</th>\n",
       "      <td>come</td>\n",
       "      <td>come</td>\n",
       "      <td>VERB</td>\n",
       "      <td>VB</td>\n",
       "      <td>ROOT</td>\n",
       "      <td>xxxx</td>\n",
       "      <td>True</td>\n",
       "      <td>False</td>\n",
       "    </tr>\n",
       "    <tr>\n",
       "      <th>4</th>\n",
       "      <td>from</td>\n",
       "      <td>from</td>\n",
       "      <td>ADP</td>\n",
       "      <td>IN</td>\n",
       "      <td>prep</td>\n",
       "      <td>xxxx</td>\n",
       "      <td>True</td>\n",
       "      <td>True</td>\n",
       "    </tr>\n",
       "    <tr>\n",
       "      <th>5</th>\n",
       "      <td>this</td>\n",
       "      <td>this</td>\n",
       "      <td>DET</td>\n",
       "      <td>DT</td>\n",
       "      <td>det</td>\n",
       "      <td>xxxx</td>\n",
       "      <td>True</td>\n",
       "      <td>True</td>\n",
       "    </tr>\n",
       "    <tr>\n",
       "      <th>6</th>\n",
       "      <td>restaurant</td>\n",
       "      <td>restaurant</td>\n",
       "      <td>NOUN</td>\n",
       "      <td>NN</td>\n",
       "      <td>pobj</td>\n",
       "      <td>xxxx</td>\n",
       "      <td>True</td>\n",
       "      <td>False</td>\n",
       "    </tr>\n",
       "    <tr>\n",
       "      <th>7</th>\n",
       "      <td>,</td>\n",
       "      <td>,</td>\n",
       "      <td>PUNCT</td>\n",
       "      <td>,</td>\n",
       "      <td>punct</td>\n",
       "      <td>,</td>\n",
       "      <td>False</td>\n",
       "      <td>False</td>\n",
       "    </tr>\n",
       "    <tr>\n",
       "      <th>8</th>\n",
       "      <td>which</td>\n",
       "      <td>which</td>\n",
       "      <td>DET</td>\n",
       "      <td>WDT</td>\n",
       "      <td>nsubj</td>\n",
       "      <td>xxxx</td>\n",
       "      <td>True</td>\n",
       "      <td>True</td>\n",
       "    </tr>\n",
       "    <tr>\n",
       "      <th>9</th>\n",
       "      <td>features</td>\n",
       "      <td>feature</td>\n",
       "      <td>VERB</td>\n",
       "      <td>VBZ</td>\n",
       "      <td>relcl</td>\n",
       "      <td>xxxx</td>\n",
       "      <td>True</td>\n",
       "      <td>False</td>\n",
       "    </tr>\n",
       "    <tr>\n",
       "      <th>10</th>\n",
       "      <td>very</td>\n",
       "      <td>very</td>\n",
       "      <td>ADV</td>\n",
       "      <td>RB</td>\n",
       "      <td>advmod</td>\n",
       "      <td>xxxx</td>\n",
       "      <td>True</td>\n",
       "      <td>True</td>\n",
       "    </tr>\n",
       "    <tr>\n",
       "      <th>11</th>\n",
       "      <td>exotic</td>\n",
       "      <td>exotic</td>\n",
       "      <td>ADJ</td>\n",
       "      <td>JJ</td>\n",
       "      <td>amod</td>\n",
       "      <td>xxxx</td>\n",
       "      <td>True</td>\n",
       "      <td>False</td>\n",
       "    </tr>\n",
       "    <tr>\n",
       "      <th>12</th>\n",
       "      <td>eats</td>\n",
       "      <td>eat</td>\n",
       "      <td>NOUN</td>\n",
       "      <td>NNS</td>\n",
       "      <td>dobj</td>\n",
       "      <td>xxxx</td>\n",
       "      <td>True</td>\n",
       "      <td>False</td>\n",
       "    </tr>\n",
       "  </tbody>\n",
       "</table>\n",
       "</div>"
      ],
      "text/plain": [
       "          text       lemma part_of_speech  tag dependency shape  \\\n",
       "0         Many        many            ADJ   JJ       amod  Xxxx   \n",
       "1         jobs         job           NOUN  NNS      nsubj  xxxx   \n",
       "2         will        will           VERB   MD        aux  xxxx   \n",
       "3         come        come           VERB   VB       ROOT  xxxx   \n",
       "4         from        from            ADP   IN       prep  xxxx   \n",
       "5         this        this            DET   DT        det  xxxx   \n",
       "6   restaurant  restaurant           NOUN   NN       pobj  xxxx   \n",
       "7            ,           ,          PUNCT    ,      punct     ,   \n",
       "8        which       which            DET  WDT      nsubj  xxxx   \n",
       "9     features     feature           VERB  VBZ      relcl  xxxx   \n",
       "10        very        very            ADV   RB     advmod  xxxx   \n",
       "11      exotic      exotic            ADJ   JJ       amod  xxxx   \n",
       "12        eats         eat           NOUN  NNS       dobj  xxxx   \n",
       "\n",
       "    is_alphanumeric  is_stopword  \n",
       "0              True         True  \n",
       "1              True        False  \n",
       "2              True         True  \n",
       "3              True        False  \n",
       "4              True         True  \n",
       "5              True         True  \n",
       "6              True        False  \n",
       "7             False        False  \n",
       "8              True         True  \n",
       "9              True        False  \n",
       "10             True         True  \n",
       "11             True        False  \n",
       "12             True        False  "
      ]
     },
     "execution_count": 19,
     "metadata": {},
     "output_type": "execute_result"
    }
   ],
   "source": [
    "analyze_text(u\"Many jobs will come from this restaurant, which features very exotic eats\")"
   ]
  },
  {
   "cell_type": "markdown",
   "metadata": {},
   "source": [
    "## Part of Speech Tagging\n",
    "\n",
    "How is spaCy able to tag the part of speech of a particular token? From its own documentation:\n",
    "\n",
    "> *A model consists of binary data and is produced by showing a system enough examples for it to make predictions that generalize across the language – for example, a word following “the” in English is most likely a noun.*\n",
    "\n",
    "\n",
    "There are a wide variety of statistical implementations for POS taggers, but a common one that is used is a **Hidden Markov Model**.\n",
    "\n",
    "Hidden Markov models allow us to work with both observed events and hidden events. \n",
    "\n",
    "## Hidden Markov Models\n",
    "\n",
    "An HMM is used frequently when we have to find the probability of a sequence of both **observable events**, and **hidden states**. \n",
    "\n",
    "Jurafsky:\n",
    "![hmm](images/hmm.png)\n",
    "\n",
    "\n",
    "### Examples\n",
    "\n",
    "#### $V$\n",
    "\n",
    "$V$ is your vocabulary (if it is the entire English language, ~20,000 words)\n",
    "\n",
    "#### $O$\n",
    "\n",
    "**O** stands for **observed sequence**. Such as `I will race home`.\n",
    "\n",
    "\n",
    "* $Q$: `V`, `N`, `ADJ`, `ADV`, etc.\n",
    "#### $A$\n",
    "\n",
    "$a_{v \\rightarrow n}$ = 0.32, $a_{v \\rightarrow adv}$ = 0.44. $A$ is a square transition matrix that if $N$ x $N$, where $N$ is the number of different states.\n",
    "\n",
    "![transitions](images/transition.png)\n",
    "\n",
    "#### $B$\n",
    "\n",
    "$b_{n}(\"saw\") = 0.004$\n",
    "\n",
    "$B$ answers the question - *if we were to generate a random from state $i$, what is the likelihood this word would be $x$?*\n",
    "\n",
    "\n",
    "The reason it is called an ** emission probability ** is because it is the probability that a hidden state \"emits\" an observed value (in our case, the likelihood that a `NOUN` emits `bicycle`).\n",
    "\n",
    "$B$ should be based on a table that is of shape $N \\times V$. Here is an example of this emissions probability table, from a YouTube video I pulled off the internet:\n",
    "\n",
    "![emissions](images/emissions.png)\n",
    "\n",
    "\n",
    "#### $\\pi$\n",
    "\n",
    "$\\pi$ is the prior probability - ie. the percentage of all occurences in the entire corpus that are verbs, nouns ,etc.\n",
    "\n",
    "$\\pi_{v} = 0.3$, $\\pi_{n} = 0.35$, $\\dots$"
   ]
  },
  {
   "cell_type": "code",
   "execution_count": null,
   "metadata": {},
   "outputs": [],
   "source": [
    "I walk."
   ]
  },
  {
   "cell_type": "markdown",
   "metadata": {},
   "source": [
    "Jurafsky:\n",
    "![hmm_diagram](images/hmm_diagram.png)"
   ]
  },
  {
   "cell_type": "markdown",
   "metadata": {},
   "source": [
    "## Using Hidden Markov Models for Tagging"
   ]
  },
  {
   "cell_type": "markdown",
   "metadata": {},
   "source": [
    "An HMM often uses an algorithm called **Viterbi algorithm** to dynamically calculate the most likely sequence of hidden states. \n",
    "\n",
    "A great example of how to use the Viterbi algorithm, including Python code implementation, is available [here](http://www.adeveloperdiary.com/data-science/machine-learning/implement-viterbi-algorithm-in-hidden-markov-model-using-python-and-r/).\n",
    "\n",
    "### Exercise (15 minutes)\n",
    "\n",
    "1. Use the `viterbi_algorithm.xlsx` notebook to calculate the most likely Part of Speech tags in the document `Jane will`.\n",
    "\n",
    "2. In real life, how would you find the `B` emission frequencies?\n",
    "\n",
    "3. In real life, how would you find the `A` transition probabilities?"
   ]
  },
  {
   "cell_type": "markdown",
   "metadata": {},
   "source": [
    "### Named Entity Recognition"
   ]
  },
  {
   "cell_type": "markdown",
   "metadata": {},
   "source": [
    "A list of all the entity types in spaCy is available [here](https://spacy.io/api/annotation#named-entities)."
   ]
  },
  {
   "cell_type": "code",
   "execution_count": null,
   "metadata": {},
   "outputs": [],
   "source": [
    "doc = nlp(u\"Steve Jobs and Apple is looking at buying U.K. startup for $1 billion\")\n",
    "import en_core_web_sm\n",
    "import spacy\n",
    "from scipy.spatial.distance import cosine\n",
    "nlp = en_core_web_sm.load()\n",
    "\n",
    "for ent in doc.ents:\n",
    "    print(ent.text, ent.start_char, ent.end_char, ent.label_)"
   ]
  },
  {
   "cell_type": "code",
   "execution_count": null,
   "metadata": {},
   "outputs": [],
   "source": [
    "# visualize this using displacy:\n",
    "from spacy import displacy\n",
    "displacy.render(doc, style=\"ent\", jupyter=True)"
   ]
  },
  {
   "cell_type": "markdown",
   "metadata": {},
   "source": [
    "## Merging and Splitting"
   ]
  },
  {
   "cell_type": "code",
   "execution_count": null,
   "metadata": {},
   "outputs": [],
   "source": [
    "import spacy\n",
    "text = \"I live in New York\"\n",
    "nlp = spacy.load(\"en_core_web_sm\")\n",
    "doc = nlp(text)\n",
    "print(\"Before:\", [token.text for token in doc])\n",
    "\n",
    "with doc.retokenize() as retokenizer:\n",
    "    retokenizer.merge(doc[3:5], attrs={\"LEMMA\": \"new york\"})\n",
    "print(\"After:\", [token.text for token in doc])"
   ]
  },
  {
   "cell_type": "code",
   "execution_count": null,
   "metadata": {},
   "outputs": [],
   "source": [
    "displacy.render(doc, style=\"ent\", jupyter=True)"
   ]
  },
  {
   "cell_type": "markdown",
   "metadata": {},
   "source": [
    "# Word Embeddings (word2vec Introduction)"
   ]
  },
  {
   "cell_type": "markdown",
   "metadata": {},
   "source": [
    "## Continuous Bag of Words (Use Context to Predict Target Word)\n",
    "![alt text](images/word2vec_cbow.png \"Logo Title Text 1\")"
   ]
  },
  {
   "cell_type": "markdown",
   "metadata": {},
   "source": [
    "## Softmax\n",
    "![alt text](images/softmax.png \"Logo Title Text 1\")"
   ]
  },
  {
   "cell_type": "markdown",
   "metadata": {},
   "source": [
    "## Skipgram\n",
    "![alt text](images/skipgram.png \"Logo Title Text 1\")\n",
    "\n",
    "## Clusters pf Words\n",
    "![alt text](images/wordembedding_cluster.png \"Logo Title Text 1\")"
   ]
  },
  {
   "cell_type": "code",
   "execution_count": 20,
   "metadata": {},
   "outputs": [],
   "source": [
    "import en_core_web_sm\n",
    "import spacy\n",
    "from scipy.spatial.distance import cosine\n",
    "nlp = en_core_web_sm.load()"
   ]
  },
  {
   "cell_type": "code",
   "execution_count": null,
   "metadata": {},
   "outputs": [],
   "source": [
    "from collections import Counter\n",
    "tokens = nlp(u'database Mandarin technology Beijing sad depressed couch sofa computer China Chinese France Paris')\n",
    "counter = Counter()\n",
    "for token1 in tokens:\n",
    "    for token2 in tokens:\n",
    "        print(token1.vector)\n",
    "        input(\n",
    "        )\n",
    "        if token1 != token2:\n",
    "            counter[(token1, token2)] = 1 - cosine(token1.vector, token2.vector)\n",
    "counter.most_common(20)"
   ]
  },
  {
   "cell_type": "markdown",
   "metadata": {},
   "source": [
    "# Finding Most Similar Words (Using Our Old Methods)"
   ]
  },
  {
   "cell_type": "code",
   "execution_count": null,
   "metadata": {},
   "outputs": [],
   "source": [
    "from sklearn.feature_extraction.text import CountVectorizer\n",
    "\n",
    "# inspect the default settings for CountVectorizer\n",
    "CountVectorizer()"
   ]
  },
  {
   "cell_type": "code",
   "execution_count": null,
   "metadata": {},
   "outputs": [],
   "source": [
    "reviews = open(\"poor_amazon_toy_reviews.txt\").readlines()\n",
    "\n",
    "vectorizer = CountVectorizer(ngram_range=(1, 1), \n",
    "                             stop_words=\"english\", \n",
    "                             max_features=500,token_pattern='(?u)\\\\b[a-zA-Z][a-zA-Z]+\\\\b')\n",
    "X = vectorizer.fit_transform(reviews)\n",
    "\n",
    "data = pd.DataFrame(X.toarray(), columns=vectorizer.get_feature_names())\n",
    "data.head()"
   ]
  },
  {
   "cell_type": "code",
   "execution_count": null,
   "metadata": {},
   "outputs": [],
   "source": [
    "from sklearn.metrics.pairwise import cosine_similarity\n",
    "\n",
    "# create similiarity matrix\n",
    "similarity_matrix = pd.DataFrame(cosine_similarity(data.T.values), \n",
    "             columns=vectorizer.get_feature_names(),\n",
    "                                 index=vectorizer.get_feature_names())"
   ]
  },
  {
   "cell_type": "code",
   "execution_count": null,
   "metadata": {},
   "outputs": [],
   "source": [
    "# unstack matrix into table\n",
    "similarity_table = similarity_matrix.rename_axis(None).rename_axis(None, axis=1).stack().reset_index()"
   ]
  },
  {
   "cell_type": "code",
   "execution_count": null,
   "metadata": {},
   "outputs": [],
   "source": [
    "# rename columns\n",
    "similarity_table.columns = [\"word1\", \"word2\", \"similarity\"]\n",
    "similarity_table.shape"
   ]
  },
  {
   "cell_type": "code",
   "execution_count": null,
   "metadata": {},
   "outputs": [],
   "source": [
    "similarity_table = similarity_table[similarity_table[\"similarity\"] < 0.99]\n",
    "similarity_table.shape"
   ]
  },
  {
   "cell_type": "code",
   "execution_count": null,
   "metadata": {},
   "outputs": [],
   "source": [
    "similarity_table.sort_values(by=\"similarity\", ascending=False).drop_duplicates(\n",
    "    subset=\"similarity\", keep=\"first\").head(10)"
   ]
  },
  {
   "cell_type": "code",
   "execution_count": null,
   "metadata": {},
   "outputs": [],
   "source": [
    "top_500_words = vectorizer.get_feature_names()"
   ]
  },
  {
   "cell_type": "markdown",
   "metadata": {},
   "source": [
    "# Exercise: Similar Words Using Word Embeddings"
   ]
  },
  {
   "cell_type": "code",
   "execution_count": null,
   "metadata": {},
   "outputs": [],
   "source": [
    "# load into spacy your top 500 words\n",
    "\n",
    "tokens = nlp(f'{\" \".join(top_500_words)}')"
   ]
  },
  {
   "cell_type": "code",
   "execution_count": null,
   "metadata": {},
   "outputs": [],
   "source": [
    "from itertools import product\n",
    "# create a list of similarity tuples\n",
    "\n",
    "similarity_tuples = []\n",
    "\n",
    "for token1, token2 in product(tokens, repeat=2):\n",
    "    similarity_tuples.append((token1, token2, token1.similarity(token2)))\n",
    "\n",
    "similarities = pd.DataFrame(similarity_tuples, columns=[\"word1\",\"word2\", \"score\"])\n"
   ]
  },
  {
   "cell_type": "code",
   "execution_count": null,
   "metadata": {},
   "outputs": [],
   "source": [
    "# find similar words\n",
    "similarities[similarities[\"score\"] < 1].sort_values(\n",
    "    by=\"score\", ascending=False).drop_duplicates(\n",
    "    subset=\"score\", keep=\"first\").head(5)"
   ]
  }
 ],
 "metadata": {
  "kernelspec": {
   "display_name": "Python 3",
   "language": "python",
   "name": "python3"
  },
  "language_info": {
   "codemirror_mode": {
    "name": "ipython",
    "version": 3
   },
   "file_extension": ".py",
   "mimetype": "text/x-python",
   "name": "python",
   "nbconvert_exporter": "python",
   "pygments_lexer": "ipython3",
   "version": "3.8.2"
  },
  "toc": {
   "base_numbering": 1,
   "nav_menu": {},
   "number_sections": true,
   "sideBar": true,
   "skip_h1_title": false,
   "title_cell": "Table of Contents",
   "title_sidebar": "Contents",
   "toc_cell": true,
   "toc_position": {},
   "toc_section_display": true,
   "toc_window_display": true
  }
 },
 "nbformat": 4,
 "nbformat_minor": 2
}
