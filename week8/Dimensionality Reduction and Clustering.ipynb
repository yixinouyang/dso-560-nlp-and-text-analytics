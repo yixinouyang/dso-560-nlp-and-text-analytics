{
 "cells": [
  {
   "cell_type": "markdown",
   "metadata": {
    "toc": true
   },
   "source": [
    "<h1>Table of Contents<span class=\"tocSkip\"></span></h1>\n",
    "<div class=\"toc\"><ul class=\"toc-item\"><li><span><a href=\"#Dimensionality-Reduction\" data-toc-modified-id=\"Dimensionality-Reduction-1\"><span class=\"toc-item-num\">1&nbsp;&nbsp;</span>Dimensionality Reduction</a></span><ul class=\"toc-item\"><li><span><a href=\"#The-Problem\" data-toc-modified-id=\"The-Problem-1.1\"><span class=\"toc-item-num\">1.1&nbsp;&nbsp;</span>The Problem</a></span><ul class=\"toc-item\"><li><span><a href=\"#Multi-Collinearity\" data-toc-modified-id=\"Multi-Collinearity-1.1.1\"><span class=\"toc-item-num\">1.1.1&nbsp;&nbsp;</span>Multi-Collinearity</a></span></li></ul></li><li><span><a href=\"#Sparsity\" data-toc-modified-id=\"Sparsity-1.2\"><span class=\"toc-item-num\">1.2&nbsp;&nbsp;</span>Sparsity</a></span></li></ul></li><li><span><a href=\"#Principle-Component-Analysis\" data-toc-modified-id=\"Principle-Component-Analysis-2\"><span class=\"toc-item-num\">2&nbsp;&nbsp;</span>Principle Component Analysis</a></span><ul class=\"toc-item\"><li><span><a href=\"#Important-Points:\" data-toc-modified-id=\"Important-Points:-2.1\"><span class=\"toc-item-num\">2.1&nbsp;&nbsp;</span>Important Points:</a></span></li></ul></li><li><span><a href=\"#Singular-Value-Decomposition\" data-toc-modified-id=\"Singular-Value-Decomposition-3\"><span class=\"toc-item-num\">3&nbsp;&nbsp;</span>Singular Value Decomposition</a></span><ul class=\"toc-item\"><li><span><a href=\"#Measuring-the-Quality-of-the-Reconstruction\" data-toc-modified-id=\"Measuring-the-Quality-of-the-Reconstruction-3.1\"><span class=\"toc-item-num\">3.1&nbsp;&nbsp;</span>Measuring the Quality of the Reconstruction</a></span></li><li><span><a href=\"#Heuristic-Step-for-How-Many-Dimensions-to-Keep\" data-toc-modified-id=\"Heuristic-Step-for-How-Many-Dimensions-to-Keep-3.2\"><span class=\"toc-item-num\">3.2&nbsp;&nbsp;</span>Heuristic Step for How Many Dimensions to Keep</a></span></li></ul></li><li><span><a href=\"#GLOVE\" data-toc-modified-id=\"GLOVE-4\"><span class=\"toc-item-num\">4&nbsp;&nbsp;</span>GLOVE</a></span><ul class=\"toc-item\"><li><span><a href=\"#Using-Spacy-word2vec-embeddings\" data-toc-modified-id=\"Using-Spacy-word2vec-embeddings-4.1\"><span class=\"toc-item-num\">4.1&nbsp;&nbsp;</span>Using Spacy word2vec embeddings</a></span></li><li><span><a href=\"#Using-Glove\" data-toc-modified-id=\"Using-Glove-4.2\"><span class=\"toc-item-num\">4.2&nbsp;&nbsp;</span>Using Glove</a></span></li></ul></li><li><span><a href=\"#Clustering-Text\" data-toc-modified-id=\"Clustering-Text-5\"><span class=\"toc-item-num\">5&nbsp;&nbsp;</span>Clustering Text</a></span></li></ul></div>"
   ]
  },
  {
   "cell_type": "markdown",
   "metadata": {},
   "source": [
    "# Dimensionality Reduction\n",
    "\n",
    "## The Problem\n",
    "\n",
    "There is an interesting tradeoff between model performance and a feature's dimensionality:\n",
    "![http://www.visiondummy.com/2014/04/curse-dimensionality-affect-classification/](images/dimensionality_vs_performance.png)\n",
    "\n",
    ">*If the amount of available training data is fixed, then overfitting occurs if we keep adding dimensions. On the other hand, if we keep adding dimensions, the amount of **training data needs to grow exponentially fast to maintain the same coverage** and to avoid overfitting* ([Computer Vision for Dummies](http://www.visiondummy.com/2014/04/curse-dimensionality-affect-classification/)).\n",
    "\n",
    "![http://www.visiondummy.com/2014/04/curse-dimensionality-affect-classification/](images/curseofdimensionality.png)\n",
    "\n",
    "### Multi-Collinearity\n",
    "\n",
    "In many cases, there is a high degree of correlation between many of the features in a dataset. This multi-collinearity has the effect of drowning out the \"signal\" of your dataset in many cases, and amplifies \"outlier\" noise.\n",
    "\n",
    "\n",
    "## Sparsity\n",
    "\n",
    "- High dimensionality increases the sparsity of your features (**what NLP techniques have we used that illustrate this point?**)\n",
    "- The density of the training samples decreases when dimensionality increases:\n",
    "- **Distance measures (Euclidean, for instance) start losing their effectiveness**, because there isn't much difference between the max and min distances in higher dimensions.\n",
    "- Many models that rely upon **assumptions of Gaussian distributions** (like OLS linear regression), Gaussian mixture models, Gaussian processes, etc. become less and less effective since their distributions become flatter and \"fatter tailed\".\n",
    "![http://www.visiondummy.com/2014/04/curse-dimensionality-affect-classification/](images/distance-asymptote.png)\n",
    "\n",
    "What is the amount of data needed to maintain **20% coverage** of the feature space? For 1 dimension, it is **20% of the entire population's dataset**. For a dimensionality of $D$:\n",
    "\n",
    "$$\n",
    "X^{D} = .20\n",
    "$$\n",
    "$$\n",
    "(X^{D})^{\\frac{1}{D}} = .20^{\\frac{1}{D}}\n",
    "$$\n",
    "$$\n",
    "X = \\sqrt[D]{.20}\n",
    "$$\n",
    "You can approximate this as \n",
    "```python\n",
    "def coverage_requirement(requirement, D):\n",
    "    return requirement ** (1 / D)\n",
    "\n",
    "x = []\n",
    "y = []\n",
    "for d in range(1,20):\n",
    "    y.append(coverage_requirement(0.10, d))\n",
    "    x.append(d)\n",
    "    \n",
    "import matplotlib.pyplot as plt\n",
    "\n",
    "plt.plot(x,y)\n",
    "plt.xlabel(\"Number of Dimensions\")\n",
    "plt.ylabel(\"Appromximate % of Population Dataset\")\n",
    "plt.title(\"% of Dataset Needed to Maintain 10% Coverage of Feature Space\")\n",
    "plt.show()\n",
    "```\n",
    "<img src=\"images/coverage-needed.png\" width=\"500\">"
   ]
  },
  {
   "cell_type": "code",
   "execution_count": 3,
   "metadata": {},
   "outputs": [
    {
     "data": {
      "text/html": [
       "<div>\n",
       "<style scoped>\n",
       "    .dataframe tbody tr th:only-of-type {\n",
       "        vertical-align: middle;\n",
       "    }\n",
       "\n",
       "    .dataframe tbody tr th {\n",
       "        vertical-align: top;\n",
       "    }\n",
       "\n",
       "    .dataframe thead th {\n",
       "        text-align: right;\n",
       "    }\n",
       "</style>\n",
       "<table border=\"1\" class=\"dataframe\">\n",
       "  <thead>\n",
       "    <tr style=\"text-align: right;\">\n",
       "      <th></th>\n",
       "      <th>Tri-Gram 1</th>\n",
       "      <th>Tri-Gram 2</th>\n",
       "      <th>Correlation</th>\n",
       "    </tr>\n",
       "  </thead>\n",
       "  <tbody>\n",
       "    <tr>\n",
       "      <th>43</th>\n",
       "      <td>don waste your</td>\n",
       "      <td>waste your money</td>\n",
       "      <td>0.777888</td>\n",
       "    </tr>\n",
       "    <tr>\n",
       "      <th>197</th>\n",
       "      <td>waste your money</td>\n",
       "      <td>don waste your</td>\n",
       "      <td>0.777888</td>\n",
       "    </tr>\n",
       "    <tr>\n",
       "      <th>82</th>\n",
       "      <td>of the box</td>\n",
       "      <td>out of the</td>\n",
       "      <td>0.609369</td>\n",
       "    </tr>\n",
       "    <tr>\n",
       "      <th>110</th>\n",
       "      <td>out of the</td>\n",
       "      <td>of the box</td>\n",
       "      <td>0.609369</td>\n",
       "    </tr>\n",
       "    <tr>\n",
       "      <th>123</th>\n",
       "      <td>this for my</td>\n",
       "      <td>my year old</td>\n",
       "      <td>0.078176</td>\n",
       "    </tr>\n",
       "  </tbody>\n",
       "</table>\n",
       "</div>"
      ],
      "text/plain": [
       "           Tri-Gram 1        Tri-Gram 2  Correlation\n",
       "43     don waste your  waste your money     0.777888\n",
       "197  waste your money    don waste your     0.777888\n",
       "82         of the box        out of the     0.609369\n",
       "110        out of the        of the box     0.609369\n",
       "123       this for my       my year old     0.078176"
      ]
     },
     "execution_count": 3,
     "metadata": {},
     "output_type": "execute_result"
    }
   ],
   "source": [
    "import pandas as pd\n",
    "from sklearn.feature_extraction.text import CountVectorizer\n",
    "reviews = pd.read_csv(\"mcdonalds-yelp-negative-reviews.csv\", encoding='latin-1')\n",
    "reviews = open(\"poor_amazon_toy_reviews.txt\", encoding='latin-1')\n",
    "\n",
    "#text = reviews[\"review\"].values\n",
    "text = reviews.readlines()\n",
    "\n",
    "vectorizer = CountVectorizer(ngram_range=(3,3), min_df=0.01, max_df=0.75, max_features=200)\n",
    "# tokenize and build vocab\n",
    "vectorizer.fit(text)\n",
    "vector = vectorizer.transform(text)\n",
    "features = vector.toarray()\n",
    "features_df = pd.DataFrame(features, columns=vectorizer.get_feature_names())\n",
    "\n",
    "correlations = features_df.corr()\n",
    "correlations_stacked = correlations.stack().reset_index()\n",
    "#set column names\n",
    "correlations_stacked.columns = ['Tri-Gram 1','Tri-Gram 2','Correlation']\n",
    "correlations_stacked = correlations_stacked[correlations_stacked[\"Correlation\"] < 1]\n",
    "correlations_stacked = correlations_stacked.sort_values(by=['Correlation'], ascending=False)\n",
    "correlations_stacked.head()"
   ]
  },
  {
   "cell_type": "code",
   "execution_count": 4,
   "metadata": {},
   "outputs": [
    {
     "data": {
      "text/plain": [
       "<matplotlib.axes._subplots.AxesSubplot at 0x12d6a0a60>"
      ]
     },
     "execution_count": 4,
     "metadata": {},
     "output_type": "execute_result"
    },
    {
     "data": {
      "image/png": "[encoded data removed]",
      "text/plain": [
       "<Figure size 792x648 with 2 Axes>"
      ]
     },
     "metadata": {
      "needs_background": "light"
     },
     "output_type": "display_data"
    }
   ],
   "source": [
    "import numpy as np\n",
    "import matplotlib.pyplot as plt\n",
    "# visualize the correlations (install seaborn first)!\n",
    "import seaborn as sns\n",
    "\n",
    "# Generate a mask for the upper triangle\n",
    "mask = np.triu(np.ones_like(correlations, dtype=np.bool))\n",
    "\n",
    "# Set up the matplotlib figure\n",
    "f, ax = plt.subplots(figsize=(11, 9))\n",
    "\n",
    "# Generate a custom diverging colormap\n",
    "cmap = sns.diverging_palette(220, 10, as_cmap=True)\n",
    "\n",
    "# Draw the heatmap with the mask and correct aspect ratio\n",
    "sns.heatmap(correlations, mask=mask, cmap=cmap, vmax=.3, center=0,\n",
    "            square=True, linewidths=.5, cbar_kws={\"shrink\": .5})\n",
    "\n"
   ]
  },
  {
   "cell_type": "markdown",
   "metadata": {},
   "source": [
    "# Principle Component Analysis\n",
    "\n",
    "If you have an original matrix $Z$, you can decompose this matrix into two smaller matrices $X$ and $Q$. \n",
    "\n",
    "## Important Points:\n",
    "\n",
    "- Multiplying a vector by a matrix typically changes the direction of the vector. For instance:\n",
    "<figure>\n",
    "  <img src=\"images/multvector.png\" alt=\"my alt text\"/>\n",
    "    <figcaption><a href=\"https://lazyprogrammer.me/tutorial-principal-components-analysis-pca\">Lazy Programmer- \n",
    "        Tutorial to PCA</a></figcaption>\n",
    "</figure>"
   ]
  },
  {
   "cell_type": "markdown",
   "metadata": {},
   "source": [
    "However, there are eigenvalues λ and eigenvectors $v$ such that\n",
    "\n",
    "$$\n",
    "\\sum_{X}v = \\lambda v\n",
    "$$\n",
    "\n",
    "Multiplying the eigenvectors $v$ with the eigenvalue $\\lambda$ does not change the direction of the eigenvector.\n",
    "\n",
    "Multiplying the eigenvector $v$ by the covariance matrix $\\sum_{X}$ also does not change the direction of the eigenvector.\n",
    "\n",
    "If our data $X$ is of shape $N \\times D$, it turns out that we have $D$ eigenvalues and $D$ eigenvectors. This means we can arrange the eigenvalues $\\lambda$ in decreasing order so that\n",
    "\n",
    "$$\n",
    "\\lambda_3 > \\lambda_2 > \\lambda_5\n",
    "$$\n",
    "\n",
    "In this case, $\\lambda_3$ is the largest eigenvalue, followed by $\\lambda_2$, and then $\\lambda_5$. Then, we can arrange \n",
    "\n",
    "We can also rearrange the eigenvectors the same: $v_3$ will be the first column, $v_2$ will be the second column, and $v_5$ will be the third column.\n",
    "\n",
    "We'll end up with two matrices $V$ and $\\Lambda$:\n",
    "<figure>\n",
    "  <img src=\"images/pca1.png\" alt=\"my alt text\"/>\n",
    "    <figcaption><a href=\"https://lazyprogrammer.me/tutorial-principal-components-analysis-pca\">Lazy Programmer- \n",
    "        Tutorial to PCA</a></figcaption>\n",
    "</figure>"
   ]
  },
  {
   "cell_type": "code",
   "execution_count": 1,
   "metadata": {},
   "outputs": [
    {
     "ename": "NameError",
     "evalue": "name 'features' is not defined",
     "output_type": "error",
     "traceback": [
      "\u001b[0;31m---------------------------------------------------------------------------\u001b[0m",
      "\u001b[0;31mNameError\u001b[0m                                 Traceback (most recent call last)",
      "\u001b[0;32m<ipython-input-1-077e1939710b>\u001b[0m in \u001b[0;36m<module>\u001b[0;34m\u001b[0m\n\u001b[1;32m      1\u001b[0m \u001b[0;31m# what is the shape of our features?\u001b[0m\u001b[0;34m\u001b[0m\u001b[0;34m\u001b[0m\u001b[0;34m\u001b[0m\u001b[0m\n\u001b[0;32m----> 2\u001b[0;31m \u001b[0mfeatures\u001b[0m\u001b[0;34m.\u001b[0m\u001b[0mshape\u001b[0m\u001b[0;34m\u001b[0m\u001b[0;34m\u001b[0m\u001b[0m\n\u001b[0m",
      "\u001b[0;31mNameError\u001b[0m: name 'features' is not defined"
     ]
    }
   ],
   "source": [
    "# what is the shape of our features?\n",
    "features.shape"
   ]
  },
  {
   "cell_type": "code",
   "execution_count": 12,
   "metadata": {},
   "outputs": [
    {
     "data": {
      "text/plain": [
       "(12700, 4)"
      ]
     },
     "execution_count": 12,
     "metadata": {},
     "output_type": "execute_result"
    }
   ],
   "source": [
    "from sklearn.decomposition import PCA\n",
    "pca = PCA(n_components=4)\n",
    "Z = pca.fit_transform(features)\n",
    "\n",
    "# what is the shape of Z?\n",
    "Z.shape"
   ]
  },
  {
   "cell_type": "code",
   "execution_count": 13,
   "metadata": {},
   "outputs": [
    {
     "data": {
      "text/plain": [
       "<matplotlib.axes._subplots.AxesSubplot at 0x133a0f340>"
      ]
     },
     "execution_count": 13,
     "metadata": {},
     "output_type": "execute_result"
    },
    {
     "data": {
      "image/png": "[encoded data removed]",
      "text/plain": [
       "<Figure size 360x360 with 2 Axes>"
      ]
     },
     "metadata": {
      "needs_background": "light"
     },
     "output_type": "display_data"
    }
   ],
   "source": [
    "# what will happen if we take the correlation matrix and covariance matrix of our new reduced features?\n",
    "import numpy as np\n",
    "covariances = pd.DataFrame(np.cov(Z.transpose()))\n",
    "plt.rcParams[\"figure.figsize\"] = (5,5)\n",
    "sns.heatmap(covariances)"
   ]
  },
  {
   "cell_type": "code",
   "execution_count": 14,
   "metadata": {},
   "outputs": [
    {
     "data": {
      "text/plain": [
       "array([[ 0.19595259, -0.05187769],\n",
       "       [-0.03897472, -0.02642106],\n",
       "       [-0.03897472, -0.02642106],\n",
       "       ...,\n",
       "       [-0.03897472, -0.02642106],\n",
       "       [-0.03897472, -0.02642106],\n",
       "       [-0.03897472, -0.02642106]])"
      ]
     },
     "execution_count": 14,
     "metadata": {},
     "output_type": "execute_result"
    }
   ],
   "source": [
    "# train the model to reduce the dimensions down to 2\n",
    "pca = PCA(n_components=2)\n",
    "Z_two_dimensions = pca.fit_transform(features)\n",
    "Z_two_dimensions"
   ]
  },
  {
   "cell_type": "code",
   "execution_count": 15,
   "metadata": {},
   "outputs": [
    {
     "data": {
      "image/png": "[encoded data removed]",
      "text/plain": [
       "<Figure size 360x360 with 1 Axes>"
      ]
     },
     "metadata": {
      "needs_background": "light"
     },
     "output_type": "display_data"
    }
   ],
   "source": [
    "import matplotlib.pyplot as plt\n",
    "\n",
    "plt.scatter(Z_two_dimensions[:,0], Z_two_dimensions[:, 1])\n",
    "reduced_features_df = pd.DataFrame(Z_two_dimensions, columns=[\"x1\", \"x2\"])\n",
    "reduced_features_df[\"text\"] = text"
   ]
  },
  {
   "cell_type": "markdown",
   "metadata": {},
   "source": [
    "# Singular Value Decomposition\n",
    "\n",
    "Given an input matrix $A$, we want to try to represent it instead as three smaller matrices $U$, $\\sum$, and $V$. Instead of **$n$ original terms**, we want to represent each document as **$r$ concepts** (other referred to as **latent dimensions**, or **latent factors**):\n",
    "<figure>\n",
    "  <img src=\"images/svd.png\" alt=\"my alt text\"/>\n",
    "    <figcaption><i>\n",
    "        <a href=\"https://www.youtube.com/watch?v=P5mlg91as1c\">Mining of Massive Datasets - Dimensionality Reduction: Singular Value Decomposition</a> by Leskovec, Rajaraman, and Ullman (Stanford University)</i></figcaption>\n",
    "</figure>\n",
    "\n",
    "Here, **$A$ is your matrix of word vectors** - you could use any of the word vectorization techniques we have learned so far, include one-hot encoding, word count, TF-IDF.\n",
    "\n",
    "- $\\sum$ will be a **diagonal matrix** with values that are positive and sorted in decreasing order. Its value indicate the **variance (information encoded on that new dimension)**- therefore, the higher the value, the stronger that dimension is in capturing data from A, the original features. For our purposes, we can think of the rank of this $\\sum$ matrix as the number of desired dimensions. Instance, if we want to reduce $A$ from shape $1020 x 300$ to $1020 x 10$, we will want to reduce the rank of $\\sum$ from 300 to 10.\n",
    "\n",
    "- $U^T U = I$ and $V^T V = I$\n",
    "\n",
    "## Measuring the Quality of the Reconstruction\n",
    "\n",
    "A popular metric used for measuring the quality of the reconstruction is the [Frobenius Norm](https://en.wikipedia.org/wiki/Matrix_norm#Frobenius_norm). When you explain your methodology for reducing dimensions, usually managers / stakeholders will want to some way to compare multiple dimensionality techniques' ability to quantify its ability to retain information but trim dimensions:\n",
    "\n",
    "$$\n",
    "\\begin{equation}\n",
    "||A_{old}-A_{new}||_{F} = \\sqrt{\\sum_{ij}{(A^{old}_{ij}- A^{new}_{ij}}})^2\n",
    "\\end{equation}\n",
    "$$\n",
    "\n",
    "## Heuristic Step for How Many Dimensions to Keep\n",
    "\n",
    "1. Sum the $\\sum$ matrix's diagonal values: \n",
    "$$\n",
    "\\begin{equation}\n",
    "\\sum_{i}^{m}\\sigma_{i}\n",
    "\\end{equation}\n",
    "$$\n",
    "\n",
    "2. Define your threshold of \"information\" (variance) $\\alpha$ to keep: usually 80% to 90%. \n",
    "\n",
    "3. Define your cutoff point $C$: $$\n",
    "\\begin{equation}\n",
    "C = \\sum_{i}^{m}\\sigma_{i} \\alpha\n",
    "\\end{equation}\n",
    "$$\n",
    "\n",
    "4. Beginning with your largest singular value, sum your singular values $\\sigma_{i}$ until it is greater than C. Retain only those dimensions."
   ]
  },
  {
   "cell_type": "markdown",
   "metadata": {},
   "source": [
    "<figure>\n",
    "  <img src=\"images/userratings.png\" alt=\"my alt text\"/>\n",
    "    <figcaption><i>\n",
    "        <a href=\"https://www.youtube.com/watch?v=P5mlg91as1c\">Mining of Massive Datasets - Dimensionality Reduction: Singular Value Decomposition</a> by Leskovec, Rajaraman, and Ullman (Stanford University)</i></figcaption>\n",
    "</figure>\n"
   ]
  },
  {
   "cell_type": "code",
   "execution_count": null,
   "metadata": {},
   "outputs": [],
   "source": [
    "# create sample data\n",
    "\n",
    "import numpy as np\n",
    "import matplotlib.pyplot as plt\n",
    "from scipy.linalg import svd\n",
    "x = np.linspace(1,20, 20) # create the first dimension\n",
    "x = np.concatenate((x,x))\n",
    "y = x + np.random.normal(0,1, 40) # create the second dimension\n",
    "z = x + np.random.normal(0,2, 40) # create the third dimension\n",
    "a = x + np.random.normal(0,4, 40) # create the fourth dimension\n",
    "plt.scatter(x,y) # plot just the first two dimensions\n",
    "plt.show()"
   ]
  },
  {
   "cell_type": "code",
   "execution_count": null,
   "metadata": {},
   "outputs": [],
   "source": [
    "# create matrix\n",
    "A = np.stack([x,y,z,a]).T"
   ]
  },
  {
   "cell_type": "code",
   "execution_count": null,
   "metadata": {},
   "outputs": [],
   "source": [
    "# perform SVD\n",
    "D = 1\n",
    "U, s, V = svd(A)\n",
    "print(f\"s is {s}\\n\")\n",
    "print(f\"U is {U}\\n\")\n",
    "print(f\"V is {V}\")"
   ]
  },
  {
   "cell_type": "code",
   "execution_count": null,
   "metadata": {},
   "outputs": [],
   "source": [
    "# Frobenius norm\n",
    "\n",
    "s[D:] = 0\n",
    "S = np.zeros((A.shape[0], A.shape[1]))\n",
    "S[:A.shape[1], :A.shape[1]] = np.diag(s)\n",
    "A_reconstructed = U.dot(S.dot(V))\n",
    "np.sum((A_reconstructed - A) ** 2) ** (1/2) # Frobenius norm\n",
    "# reconstruct matrix\n",
    "U.dot(S)"
   ]
  },
  {
   "cell_type": "markdown",
   "metadata": {},
   "source": [
    "# GLOVE\n",
    "\n",
    "Global vectors for word presentation:\n",
    "<figure>\n",
    "  <img src=\"images/glove_1.png\" alt=\"my alt text\"/>\n",
    "    <figcaption><i>\n",
    "        <a href=\"https://nlp.stanford.edu/pubs/glove.pdf\">GloVe: Global Vectors for Word Representation</a></i></figcaption>\n",
    "</figure>"
   ]
  },
  {
   "cell_type": "code",
   "execution_count": 17,
   "metadata": {},
   "outputs": [
    {
     "name": "stdout",
     "output_type": "stream",
     "text": [
      "Collecting gensim\n",
      "  Downloading gensim-3.8.2.tar.gz (23.4 MB)\n",
      "\u001b[K     |████████████████████████████████| 23.4 MB 187 kB/s eta 0:00:01\n",
      "\u001b[?25hRequirement already satisfied: numpy>=1.11.3 in /usr/local/lib/python3.8/site-packages (from gensim) (1.18.2)\n",
      "Requirement already satisfied: scipy>=1.0.0 in /usr/local/lib/python3.8/site-packages (from gensim) (1.4.1)\n",
      "Requirement already satisfied: six>=1.5.0 in /usr/local/lib/python3.8/site-packages (from gensim) (1.14.0)\n",
      "Collecting smart_open>=1.8.1\n",
      "  Downloading smart_open-1.11.1.tar.gz (105 kB)\n",
      "\u001b[K     |████████████████████████████████| 105 kB 264 kB/s eta 0:00:01\n",
      "\u001b[?25hRequirement already satisfied: requests in /usr/local/lib/python3.8/site-packages (from smart_open>=1.8.1->gensim) (2.23.0)\n",
      "Collecting boto\n",
      "  Downloading boto-2.49.0-py2.py3-none-any.whl (1.4 MB)\n",
      "\u001b[K     |████████████████████████████████| 1.4 MB 205 kB/s eta 0:00:01\n",
      "\u001b[?25hRequirement already satisfied: boto3 in /usr/local/lib/python3.8/site-packages (from smart_open>=1.8.1->gensim) (1.12.39)\n",
      "Requirement already satisfied: certifi>=2017.4.17 in /usr/local/lib/python3.8/site-packages (from requests->smart_open>=1.8.1->gensim) (2020.4.5.1)\n",
      "Requirement already satisfied: idna<3,>=2.5 in /usr/local/lib/python3.8/site-packages (from requests->smart_open>=1.8.1->gensim) (2.9)\n",
      "Requirement already satisfied: chardet<4,>=3.0.2 in /usr/local/lib/python3.8/site-packages (from requests->smart_open>=1.8.1->gensim) (3.0.4)\n",
      "Requirement already satisfied: urllib3!=1.25.0,!=1.25.1,<1.26,>=1.21.1 in /usr/local/lib/python3.8/site-packages (from requests->smart_open>=1.8.1->gensim) (1.25.8)\n",
      "Requirement already satisfied: botocore<1.16.0,>=1.15.39 in /usr/local/lib/python3.8/site-packages (from boto3->smart_open>=1.8.1->gensim) (1.15.39)\n",
      "Requirement already satisfied: s3transfer<0.4.0,>=0.3.0 in /usr/local/lib/python3.8/site-packages (from boto3->smart_open>=1.8.1->gensim) (0.3.3)\n",
      "Requirement already satisfied: jmespath<1.0.0,>=0.7.1 in /usr/local/lib/python3.8/site-packages (from boto3->smart_open>=1.8.1->gensim) (0.9.5)\n",
      "Requirement already satisfied: python-dateutil<3.0.0,>=2.1 in /usr/local/lib/python3.8/site-packages (from botocore<1.16.0,>=1.15.39->boto3->smart_open>=1.8.1->gensim) (2.8.1)\n",
      "Requirement already satisfied: docutils<0.16,>=0.10 in /usr/local/lib/python3.8/site-packages (from botocore<1.16.0,>=1.15.39->boto3->smart_open>=1.8.1->gensim) (0.15.2)\n",
      "Building wheels for collected packages: gensim, smart-open\n",
      "  Building wheel for gensim (setup.py) ... \u001b[?25ldone\n",
      "\u001b[?25h  Created wheel for gensim: filename=gensim-3.8.2-cp38-cp38-macosx_10_14_x86_64.whl size=24208273 sha256=6bd62ae0639fb3236fa9f41540baf674913434b2bcb4124b691f9bdd7a76b93e\n",
      "  Stored in directory: /Users/yuchen/Library/Caches/pip/wheels/91/fa/af/b14a7e3943121f028c82af23946002f99ba18853de2381b148\n",
      "  Building wheel for smart-open (setup.py) ... \u001b[?25ldone\n",
      "\u001b[?25h  Created wheel for smart-open: filename=smart_open-1.11.1-py3-none-any.whl size=95255 sha256=a104018d08730ff5b1f115c5e2cbf0c58a0becb891a33e3e3bb9f4060fac5705\n",
      "  Stored in directory: /Users/yuchen/Library/Caches/pip/wheels/90/f7/ab/7b855402a7d4bf9dececf03bb7f8c831dabad2551487b675bc\n",
      "Successfully built gensim smart-open\n",
      "Installing collected packages: boto, smart-open, gensim\n",
      "Successfully installed boto-2.49.0 gensim-3.8.2 smart-open-1.11.1\n"
     ]
    }
   ],
   "source": [
    "!pip3 install gensim"
   ]
  },
  {
   "cell_type": "code",
   "execution_count": 16,
   "metadata": {},
   "outputs": [
    {
     "ename": "ModuleNotFoundError",
     "evalue": "No module named 'gensim'",
     "output_type": "error",
     "traceback": [
      "\u001b[0;31m---------------------------------------------------------------------------\u001b[0m",
      "\u001b[0;31mModuleNotFoundError\u001b[0m                       Traceback (most recent call last)",
      "\u001b[0;32m<ipython-input-16-73c8bd55712d>\u001b[0m in \u001b[0;36m<module>\u001b[0;34m\u001b[0m\n\u001b[1;32m      1\u001b[0m \u001b[0;31m# import glove embeddings into a word2vec format that is consumable by Gensim\u001b[0m\u001b[0;34m\u001b[0m\u001b[0;34m\u001b[0m\u001b[0;34m\u001b[0m\u001b[0m\n\u001b[0;32m----> 2\u001b[0;31m \u001b[0;32mfrom\u001b[0m \u001b[0mgensim\u001b[0m\u001b[0;34m.\u001b[0m\u001b[0mscripts\u001b[0m\u001b[0;34m.\u001b[0m\u001b[0mglove2word2vec\u001b[0m \u001b[0;32mimport\u001b[0m \u001b[0mglove2word2vec\u001b[0m\u001b[0;34m\u001b[0m\u001b[0;34m\u001b[0m\u001b[0m\n\u001b[0m\u001b[1;32m      3\u001b[0m \u001b[0mglove_input_file\u001b[0m \u001b[0;34m=\u001b[0m \u001b[0;34m'glove.6B.100d.txt'\u001b[0m\u001b[0;34m\u001b[0m\u001b[0;34m\u001b[0m\u001b[0m\n\u001b[1;32m      4\u001b[0m \u001b[0mword2vec_output_file\u001b[0m \u001b[0;34m=\u001b[0m \u001b[0;34m'glove.6B.100d.txt.word2vec'\u001b[0m\u001b[0;34m\u001b[0m\u001b[0;34m\u001b[0m\u001b[0m\n\u001b[1;32m      5\u001b[0m \u001b[0mglove2word2vec\u001b[0m\u001b[0;34m(\u001b[0m\u001b[0mglove_input_file\u001b[0m\u001b[0;34m,\u001b[0m \u001b[0mword2vec_output_file\u001b[0m\u001b[0;34m)\u001b[0m\u001b[0;34m\u001b[0m\u001b[0;34m\u001b[0m\u001b[0m\n",
      "\u001b[0;31mModuleNotFoundError\u001b[0m: No module named 'gensim'"
     ]
    }
   ],
   "source": [
    "# import glove embeddings into a word2vec format that is consumable by Gensim\n",
    "from gensim.scripts.glove2word2vec import glove2word2vec\n",
    "glove_input_file = 'glove.6B.100d.txt'\n",
    "word2vec_output_file = 'glove.6B.100d.txt.word2vec'\n",
    "glove2word2vec(glove_input_file, word2vec_output_file)"
   ]
  },
  {
   "cell_type": "code",
   "execution_count": 1,
   "metadata": {},
   "outputs": [
    {
     "name": "stdout",
     "output_type": "stream",
     "text": [
      "[('queen', 0.7698541283607483)]\n"
     ]
    }
   ],
   "source": [
    "from gensim.models import KeyedVectors\n",
    "# load the Stanford GloVe model\n",
    "filename = 'glove.6B.100d.txt.word2vec'\n",
    "model = KeyedVectors.load_word2vec_format(filename, binary=False)\n",
    "# calculate: (king - man) + woman = ?\n",
    "result = model.most_similar(positive=['woman', 'king'], negative=['man'], topn=1)\n",
    "print(result)"
   ]
  },
  {
   "cell_type": "code",
   "execution_count": 2,
   "metadata": {},
   "outputs": [
    {
     "data": {
      "text/html": [
       "<div>\n",
       "<style scoped>\n",
       "    .dataframe tbody tr th:only-of-type {\n",
       "        vertical-align: middle;\n",
       "    }\n",
       "\n",
       "    .dataframe tbody tr th {\n",
       "        vertical-align: top;\n",
       "    }\n",
       "\n",
       "    .dataframe thead th {\n",
       "        text-align: right;\n",
       "    }\n",
       "</style>\n",
       "<table border=\"1\" class=\"dataframe\">\n",
       "  <thead>\n",
       "    <tr style=\"text-align: right;\">\n",
       "      <th></th>\n",
       "      <th>0</th>\n",
       "      <th>1</th>\n",
       "      <th>2</th>\n",
       "      <th>3</th>\n",
       "      <th>4</th>\n",
       "      <th>5</th>\n",
       "      <th>6</th>\n",
       "      <th>7</th>\n",
       "      <th>8</th>\n",
       "      <th>9</th>\n",
       "      <th>...</th>\n",
       "      <th>91</th>\n",
       "      <th>92</th>\n",
       "      <th>93</th>\n",
       "      <th>94</th>\n",
       "      <th>95</th>\n",
       "      <th>96</th>\n",
       "      <th>97</th>\n",
       "      <th>98</th>\n",
       "      <th>99</th>\n",
       "      <th>word</th>\n",
       "    </tr>\n",
       "  </thead>\n",
       "  <tbody>\n",
       "    <tr>\n",
       "      <th>0</th>\n",
       "      <td>0.59368</td>\n",
       "      <td>0.44825</td>\n",
       "      <td>0.59320</td>\n",
       "      <td>0.074134</td>\n",
       "      <td>0.111410</td>\n",
       "      <td>1.27930</td>\n",
       "      <td>0.16656</td>\n",
       "      <td>0.240700</td>\n",
       "      <td>0.39045</td>\n",
       "      <td>0.32766</td>\n",
       "      <td>...</td>\n",
       "      <td>-0.22008</td>\n",
       "      <td>0.824010</td>\n",
       "      <td>-0.092207</td>\n",
       "      <td>-0.459410</td>\n",
       "      <td>0.465710</td>\n",
       "      <td>-0.56018</td>\n",
       "      <td>-0.54648</td>\n",
       "      <td>0.151620</td>\n",
       "      <td>-0.30754</td>\n",
       "      <td>woman</td>\n",
       "    </tr>\n",
       "    <tr>\n",
       "      <th>1</th>\n",
       "      <td>-0.32307</td>\n",
       "      <td>-0.87616</td>\n",
       "      <td>0.21977</td>\n",
       "      <td>0.252680</td>\n",
       "      <td>0.229760</td>\n",
       "      <td>0.73880</td>\n",
       "      <td>-0.37954</td>\n",
       "      <td>-0.353070</td>\n",
       "      <td>-0.84369</td>\n",
       "      <td>-1.11130</td>\n",
       "      <td>...</td>\n",
       "      <td>-0.71320</td>\n",
       "      <td>0.089623</td>\n",
       "      <td>0.413940</td>\n",
       "      <td>-1.336300</td>\n",
       "      <td>-0.619150</td>\n",
       "      <td>-0.33089</td>\n",
       "      <td>-0.52881</td>\n",
       "      <td>0.164830</td>\n",
       "      <td>-0.98878</td>\n",
       "      <td>king</td>\n",
       "    </tr>\n",
       "    <tr>\n",
       "      <th>2</th>\n",
       "      <td>0.37293</td>\n",
       "      <td>0.38503</td>\n",
       "      <td>0.71086</td>\n",
       "      <td>-0.659110</td>\n",
       "      <td>-0.001013</td>\n",
       "      <td>0.92715</td>\n",
       "      <td>0.27615</td>\n",
       "      <td>-0.056203</td>\n",
       "      <td>-0.24294</td>\n",
       "      <td>0.24632</td>\n",
       "      <td>...</td>\n",
       "      <td>-0.37501</td>\n",
       "      <td>0.457420</td>\n",
       "      <td>0.045975</td>\n",
       "      <td>-0.246750</td>\n",
       "      <td>0.045656</td>\n",
       "      <td>-0.38302</td>\n",
       "      <td>-0.93711</td>\n",
       "      <td>0.039138</td>\n",
       "      <td>-0.53911</td>\n",
       "      <td>man</td>\n",
       "    </tr>\n",
       "    <tr>\n",
       "      <th>3</th>\n",
       "      <td>-0.50045</td>\n",
       "      <td>-0.70826</td>\n",
       "      <td>0.55388</td>\n",
       "      <td>0.673000</td>\n",
       "      <td>0.224860</td>\n",
       "      <td>0.60281</td>\n",
       "      <td>-0.26194</td>\n",
       "      <td>0.738720</td>\n",
       "      <td>-0.65383</td>\n",
       "      <td>-0.21606</td>\n",
       "      <td>...</td>\n",
       "      <td>-0.70584</td>\n",
       "      <td>0.430120</td>\n",
       "      <td>0.510510</td>\n",
       "      <td>-0.803300</td>\n",
       "      <td>-0.665720</td>\n",
       "      <td>-0.63717</td>\n",
       "      <td>-0.36032</td>\n",
       "      <td>0.133470</td>\n",
       "      <td>-0.56075</td>\n",
       "      <td>queen</td>\n",
       "    </tr>\n",
       "    <tr>\n",
       "      <th>4</th>\n",
       "      <td>0.69548</td>\n",
       "      <td>0.66222</td>\n",
       "      <td>0.24528</td>\n",
       "      <td>-1.130400</td>\n",
       "      <td>-0.768530</td>\n",
       "      <td>0.10149</td>\n",
       "      <td>0.36038</td>\n",
       "      <td>0.048728</td>\n",
       "      <td>0.13055</td>\n",
       "      <td>-0.16981</td>\n",
       "      <td>...</td>\n",
       "      <td>0.34369</td>\n",
       "      <td>0.015695</td>\n",
       "      <td>0.099343</td>\n",
       "      <td>-0.004544</td>\n",
       "      <td>-0.736170</td>\n",
       "      <td>-0.10185</td>\n",
       "      <td>0.43978</td>\n",
       "      <td>-0.003745</td>\n",
       "      <td>-0.48888</td>\n",
       "      <td>puppy</td>\n",
       "    </tr>\n",
       "  </tbody>\n",
       "</table>\n",
       "<p>5 rows × 101 columns</p>\n",
       "</div>"
      ],
      "text/plain": [
       "         0        1        2         3         4        5        6         7  \\\n",
       "0  0.59368  0.44825  0.59320  0.074134  0.111410  1.27930  0.16656  0.240700   \n",
       "1 -0.32307 -0.87616  0.21977  0.252680  0.229760  0.73880 -0.37954 -0.353070   \n",
       "2  0.37293  0.38503  0.71086 -0.659110 -0.001013  0.92715  0.27615 -0.056203   \n",
       "3 -0.50045 -0.70826  0.55388  0.673000  0.224860  0.60281 -0.26194  0.738720   \n",
       "4  0.69548  0.66222  0.24528 -1.130400 -0.768530  0.10149  0.36038  0.048728   \n",
       "\n",
       "         8        9  ...         91        92        93        94        95  \\\n",
       "0  0.39045  0.32766  ...   -0.22008  0.824010 -0.092207 -0.459410  0.465710   \n",
       "1 -0.84369 -1.11130  ...   -0.71320  0.089623  0.413940 -1.336300 -0.619150   \n",
       "2 -0.24294  0.24632  ...   -0.37501  0.457420  0.045975 -0.246750  0.045656   \n",
       "3 -0.65383 -0.21606  ...   -0.70584  0.430120  0.510510 -0.803300 -0.665720   \n",
       "4  0.13055 -0.16981  ...    0.34369  0.015695  0.099343 -0.004544 -0.736170   \n",
       "\n",
       "        96       97        98       99   word  \n",
       "0 -0.56018 -0.54648  0.151620 -0.30754  woman  \n",
       "1 -0.33089 -0.52881  0.164830 -0.98878   king  \n",
       "2 -0.38302 -0.93711  0.039138 -0.53911    man  \n",
       "3 -0.63717 -0.36032  0.133470 -0.56075  queen  \n",
       "4 -0.10185  0.43978 -0.003745 -0.48888  puppy  \n",
       "\n",
       "[5 rows x 101 columns]"
      ]
     },
     "execution_count": 2,
     "metadata": {},
     "output_type": "execute_result"
    }
   ],
   "source": [
    "words = [\"woman\", \"king\", \"man\", \"queen\", \"puppy\", \"kitten\", \"cat\", \n",
    "         \"quarterback\", \"football\", \"stadium\", \"touchdown\",\n",
    "         \"dog\", \"government\", \"tax\", \"federal\", \"judicial\", \"elections\",\n",
    "         \"avocado\", \"tomato\", \"pear\", \"championship\", \"playoffs\"]\n",
    "\n",
    "vectors = [model.wv[word] for word in words]\n",
    "\n",
    "import pandas as pd\n",
    "vector_df = pd.DataFrame(vectors)\n",
    "vector_df[\"word\"] = words\n",
    "vector_df.head()"
   ]
  },
  {
   "cell_type": "markdown",
   "metadata": {},
   "source": [
    "## Using Spacy word2vec embeddings"
   ]
  },
  {
   "cell_type": "code",
   "execution_count": 5,
   "metadata": {},
   "outputs": [],
   "source": [
    "import en_core_web_md\n",
    "import spacy\n",
    "from scipy.spatial.distance import cosine\n",
    "nlp = en_core_web_md.load()"
   ]
  },
  {
   "cell_type": "code",
   "execution_count": 6,
   "metadata": {},
   "outputs": [],
   "source": [
    "words = [\"woman\", \"king\", \"man\", \"queen\", \"puppy\", \"kitten\", \"cat\", \n",
    "         \"quarterback\", \"football\", \"stadium\", \"touchdown\",\n",
    "         \"dog\", \"government\", \"tax\", \"federal\", \"judicial\", \"elections\",\n",
    "         \"avocado\", \"tomato\", \"pear\", \"championship\", \"playoffs\"]\n"
   ]
  },
  {
   "cell_type": "code",
   "execution_count": 8,
   "metadata": {},
   "outputs": [],
   "source": [
    "tokens = nlp(\" \".join(words))\n",
    "word2vec_vectors = [token.vector for token in tokens]"
   ]
  },
  {
   "cell_type": "code",
   "execution_count": 33,
   "metadata": {},
   "outputs": [
    {
     "data": {
      "text/plain": [
       "(22, 300)"
      ]
     },
     "execution_count": 33,
     "metadata": {},
     "output_type": "execute_result"
    }
   ],
   "source": [
    "np.array(word2vec_vectors).shape"
   ]
  },
  {
   "cell_type": "code",
   "execution_count": 10,
   "metadata": {},
   "outputs": [],
   "source": [
    "%matplotlib inline\n",
    "from sklearn.manifold import TSNE\n",
    "from sklearn.decomposition import PCA\n",
    "from sklearn.decomposition import TruncatedSVD\n",
    "import matplotlib.pyplot as plt\n",
    "import matplotlib\n",
    "dimension_model = PCA(n_components=2)\n",
    "reduced_vectors = dimension_model.fit_transform(word2vec_vectors)"
   ]
  },
  {
   "cell_type": "code",
   "execution_count": 12,
   "metadata": {},
   "outputs": [
    {
     "data": {
      "text/plain": [
       "(22, 2)"
      ]
     },
     "execution_count": 12,
     "metadata": {},
     "output_type": "execute_result"
    }
   ],
   "source": [
    "reduced_vectors.shape"
   ]
  },
  {
   "cell_type": "code",
   "execution_count": 13,
   "metadata": {},
   "outputs": [
    {
     "data": {
      "image/png": "[encoded data removed]",
      "text/plain": [
       "<Figure size 720x720 with 1 Axes>"
      ]
     },
     "metadata": {
      "needs_background": "light"
     },
     "output_type": "display_data"
    }
   ],
   "source": [
    "matplotlib.rc('figure', figsize=(10, 10))\n",
    "for i, vector in enumerate(reduced_vectors):\n",
    "    x = vector[0]\n",
    "    y = vector[1]\n",
    "    plt.plot(x,y, 'bo')\n",
    "    plt.text(x * (1 + 0.01), y * (1 + 0.01) , words[i], fontsize=12)"
   ]
  },
  {
   "cell_type": "markdown",
   "metadata": {},
   "source": [
    "## Using Glove"
   ]
  },
  {
   "cell_type": "code",
   "execution_count": 3,
   "metadata": {
    "scrolled": true
   },
   "outputs": [
    {
     "data": {
      "image/png": "[encoded data removed]",
      "text/plain": [
       "<matplotlib.figure.Figure at 0x135295ac8>"
      ]
     },
     "metadata": {},
     "output_type": "display_data"
    }
   ],
   "source": [
    "%matplotlib inline\n",
    "from sklearn.manifold import TSNE\n",
    "from sklearn.decomposition import PCA\n",
    "from sklearn.decomposition import TruncatedSVD\n",
    "import matplotlib.pyplot as plt\n",
    "\n",
    "dimension_model = PCA(n_components=2)\n",
    "reduced_vectors = dimension_model.fit_transform(vectors)\n",
    "\n",
    "for i, vector in enumerate(reduced_vectors):\n",
    "    x = vector[0]\n",
    "    y = vector[1]\n",
    "    plt.plot(x,y, 'bo')\n",
    "    plt.text(x * (1 + 0.01), y * (1 + 0.01) , words[i], fontsize=12)\n",
    "\n"
   ]
  },
  {
   "cell_type": "markdown",
   "metadata": {},
   "source": [
    "# Clustering Text"
   ]
  },
  {
   "cell_type": "code",
   "execution_count": 4,
   "metadata": {},
   "outputs": [
    {
     "name": "stdout",
     "output_type": "stream",
     "text": [
      "woman assigned to cluster 1\n",
      "king assigned to cluster 1\n",
      "man assigned to cluster 1\n",
      "queen assigned to cluster 1\n",
      "puppy assigned to cluster 3\n",
      "kitten assigned to cluster 3\n",
      "cat assigned to cluster 3\n",
      "quarterback assigned to cluster 2\n",
      "football assigned to cluster 2\n",
      "stadium assigned to cluster 2\n",
      "touchdown assigned to cluster 2\n",
      "dog assigned to cluster 3\n",
      "government assigned to cluster 0\n",
      "tax assigned to cluster 0\n",
      "federal assigned to cluster 0\n",
      "judicial assigned to cluster 0\n",
      "elections assigned to cluster 0\n",
      "avocado assigned to cluster 3\n",
      "tomato assigned to cluster 3\n",
      "pear assigned to cluster 3\n",
      "championship assigned to cluster 2\n",
      "playoffs assigned to cluster 2\n"
     ]
    }
   ],
   "source": [
    "from sklearn.cluster import KMeans\n",
    "\n",
    "kmeans = KMeans(n_clusters=4)\n",
    "cluster_assignments = kmeans.fit_predict(reduced_vectors)\n",
    "for cluster_assignment, word in zip(cluster_assignments, words):\n",
    "    print(f\"{word} assigned to cluster {cluster_assignment}\")\n"
   ]
  },
  {
   "cell_type": "code",
   "execution_count": 6,
   "metadata": {},
   "outputs": [
    {
     "data": {
      "image/png": "[encoded data removed]",
      "text/plain": [
       "<matplotlib.figure.Figure at 0x136724198>"
      ]
     },
     "metadata": {},
     "output_type": "display_data"
    }
   ],
   "source": [
    "color_map = {\n",
    "    0: \"r\",\n",
    "    1: \"b\",\n",
    "    2: \"g\",\n",
    "    3: \"y\"\n",
    "}\n",
    "\n",
    "plt.rcParams[\"figure.figsize\"] = (10,10)\n",
    "\n",
    "for i, vector in enumerate(reduced_vectors):\n",
    "    x = vector[0]\n",
    "    y = vector[1]\n",
    "    plt.plot(x,y, 'bo', c=color_map[cluster_assignments[i]])\n",
    "    plt.text(x * (1 + 0.01), y * (1 + 0.01) , words[i], fontsize=12)"
   ]
  }
 ],
 "metadata": {
  "kernelspec": {
   "display_name": "Python 3",
   "language": "python",
   "name": "python3"
  },
  "language_info": {
   "codemirror_mode": {
    "name": "ipython",
    "version": 3
   },
   "file_extension": ".py",
   "mimetype": "text/x-python",
   "name": "python",
   "nbconvert_exporter": "python",
   "pygments_lexer": "ipython3",
   "version": "3.8.2"
  },
  "toc": {
   "base_numbering": 1,
   "nav_menu": {},
   "number_sections": true,
   "sideBar": true,
   "skip_h1_title": false,
   "title_cell": "Table of Contents",
   "title_sidebar": "Contents",
   "toc_cell": true,
   "toc_position": {
    "height": "calc(100% - 180px)",
    "left": "10px",
    "top": "150px",
    "width": "165px"
   },
   "toc_section_display": true,
   "toc_window_display": true
  }
 },
 "nbformat": 4,
 "nbformat_minor": 2
}
